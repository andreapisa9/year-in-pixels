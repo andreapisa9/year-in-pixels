{
 "cells": [
  {
   "cell_type": "markdown",
   "metadata": {},
   "source": [
    "# Year in Pixels Visualizations"
   ]
  },
  {
   "cell_type": "code",
   "execution_count": 56,
   "metadata": {},
   "outputs": [],
   "source": [
    "# imports\n",
    "import string\n",
    "import json\n",
    "import datetime\n",
    "from copy import deepcopy\n",
    "import numpy as np\n",
    "import pandas as pd\n",
    "import matplotlib.pyplot as plt\n",
    "from matplotlib.colors import LinearSegmentedColormap, to_rgba, Normalize\n",
    "from matplotlib.font_manager import FontProperties\n",
    "from wordcloud import WordCloud, STOPWORDS\n",
    "from PIL import Image\n",
    "import seaborn as sns\n",
    "\n",
    "import matplotlib\n",
    "matplotlib.use('module://mplcairo.macosx')"
   ]
  },
  {
   "cell_type": "code",
   "execution_count": 2,
   "metadata": {},
   "outputs": [],
   "source": [
    "# load externally defined environment variables\n",
    "from dotenv import dotenv_values\n",
    "env_vars = dotenv_values()"
   ]
  },
  {
   "cell_type": "code",
   "execution_count": 3,
   "metadata": {},
   "outputs": [
    {
     "data": {
      "text/plain": [
       "['ff2700', '88220d', '151518', '213788', '00bfff']"
      ]
     },
     "execution_count": 3,
     "metadata": {},
     "output_type": "execute_result"
    }
   ],
   "source": [
    "# load color palette from environment variables\n",
    "palette_list = [env_vars[\"COLOR_PALETTE_{}\".format(i)] for i in range(1,6)]\n",
    "palette_list"
   ]
  },
  {
   "cell_type": "code",
   "execution_count": 4,
   "metadata": {},
   "outputs": [],
   "source": [
    "# data extraction into Pandas DataFrame\n",
    "year = env_vars['YEAR']\n",
    "\n",
    "with open('./data/data_{}.json'.format(year)) as fp:\n",
    "    data = json.load(fp)\n",
    "data = pd.DataFrame(data)\n",
    "data = data.drop(columns=['type'])"
   ]
  },
  {
   "cell_type": "code",
   "execution_count": 5,
   "metadata": {},
   "outputs": [],
   "source": [
    "# data cleaning\n",
    "data['scores'] = data['scores'].apply(lambda x : int(x[0])) # convert scores from lists to integers\n",
    "data['date'] = data['date'] = pd.to_datetime(data['date']) # convert dates from strings to datetime objects\n",
    "\n",
    "# make a column for each tag\n",
    "tags = {}\n",
    "for index, row in data.iterrows():\n",
    "    row_data = {}\n",
    "    tags_list = row['tags']\n",
    "    for tag in tags_list:\n",
    "        if tag['type'] not in row_data:\n",
    "            row_data = {**row_data, tag['type'] : tag['entries']}\n",
    "        else:\n",
    "            row_data[tag['type']].extend(tag['entries'])\n",
    "    tags = {**tags, index : row_data}\n",
    "\n",
    "tags = pd.DataFrame(tags).T\n",
    "\n",
    "data = pd.concat([data, tags], axis=1).drop(columns=['tags'])\n",
    "\n",
    "data['Productivity Rating'] = data['Productivity Rating'].apply(lambda x : int(x[0]) if isinstance(x, list) else 0) # convert productivity ratings from list to int\n",
    "\n",
    "# Filter for this year's and last year's data\n",
    "def check_year(year_to_check : datetime.date, reference : int):\n",
    "    return True if year_to_check.year == reference else False\n",
    "\n",
    "data_all = data\n",
    "\n",
    "mask_previous_year = data_all['date'].apply(lambda x : check_year(x, int(year)-1))\n",
    "data_previous_year = data_all[mask_previous_year]\n",
    "\n",
    "mask_current_year = data_all['date'].apply(lambda x : check_year(x, int(year)))\n",
    "data_current_year = data_all[mask_current_year]"
   ]
  },
  {
   "cell_type": "code",
   "execution_count": 6,
   "metadata": {},
   "outputs": [],
   "source": [
    "# Font setting (change at will)\n",
    "font = env_vars['FONT']"
   ]
  },
  {
   "cell_type": "markdown",
   "metadata": {},
   "source": [
    "# Pixels (Github-like viz)"
   ]
  },
  {
   "cell_type": "code",
   "execution_count": 7,
   "metadata": {},
   "outputs": [],
   "source": [
    "def generate_colormap_from_hex_list(palette_list : list[str]) -> LinearSegmentedColormap:\n",
    "    \"\"\"\"\"\"\n",
    "    \n",
    "    rgba_palette = [to_rgba('#'+color) for color in palette_list]\n",
    "    cmap = LinearSegmentedColormap.from_list(\"custom_palette\", rgba_palette, N=1024)\n",
    "\n",
    "    return cmap"
   ]
  },
  {
   "cell_type": "code",
   "execution_count": 8,
   "metadata": {},
   "outputs": [],
   "source": [
    "from matplotlib.patches import FancyBboxPatch\n",
    "\n",
    "# Pixels viz function (each row is one week, squares are a little spaced out and rounded, month labels are visible)\n",
    "def generate_pixels_heatmap(df : pd.DataFrame, palette : list[str], output_file : str, emoji : bool = False):\n",
    "    \"\"\"\n",
    "    Generates a GitHub-style heatmap chart.\n",
    "\n",
    "    Parameters:\n",
    "        df (pd.DataFrame): DataFrame with 'date' (datetime) and 'scores' columns.\n",
    "        palette (list): List of hexadecimal color strings defining the color palette.\n",
    "        output_file (str): Path to save the resulting SVG image.\n",
    "\n",
    "    Returns:\n",
    "        None\n",
    "    \"\"\"\n",
    "\n",
    "    assert 'emoji' in df.columns or not emoji, \"Emoji condition not specified.\"\n",
    "\n",
    "    # Ensure 'date' column is datetime\n",
    "    df['date'] = pd.to_datetime(df['date'])\n",
    "\n",
    "    # Create a full year of dates for the current year\n",
    "    year = df['date'].dt.year.min()\n",
    "    start_date = pd.Timestamp(f'{year}-01-01')\n",
    "    end_date = pd.Timestamp(f'{year}-12-31')\n",
    "    all_dates = pd.date_range(start=start_date, end=end_date, freq='D')\n",
    "\n",
    "    # Create a DataFrame for all days of the year\n",
    "    all_days = pd.DataFrame({'date': all_dates})\n",
    "\n",
    "    # Merge with the input DataFrame to align data\n",
    "    df = all_days.merge(df, on='date', how='left').fillna({'rating': 0})\n",
    "    data = df.copy()\n",
    "\n",
    "    # Add week and day of the week for plotting\n",
    "    df['week'] = df['date'].dt.isocalendar().week\n",
    "    df['day_of_week'] = df['date'].dt.weekday\n",
    "\n",
    "    # Handle the edge case where week 53 exists in the data\n",
    "    if df['week'].max() == 53:\n",
    "        df.loc[df['week'] == 53, 'week'] = 52\n",
    "\n",
    "    # Ensure unique entries for pivot table by averaging ratings for duplicate days\n",
    "    df = df.groupby(['week', 'day_of_week'], as_index=False)['scores'].mean()\n",
    "\n",
    "    # Create a pivot table for heatmap data\n",
    "    heatmap_data = df.pivot(index='day_of_week', columns='week', values='scores')\n",
    "\n",
    "    # Create a custom colormap\n",
    "    cmap = generate_colormap_from_hex_list(palette)\n",
    "\n",
    "    # Plot the heatmap with rounded corners and spacing\n",
    "    fig, ax = plt.subplots(figsize=(20, 10))\n",
    "    ax.set_aspect('equal')\n",
    "    \n",
    "    # Define the size of each square and the spacing\n",
    "    square_size = 1.0\n",
    "    spacing = 0.2\n",
    "    prop = FontProperties(fname='/System/Library/Fonts/Apple Color Emoji.ttc', size=10)\n",
    "\n",
    "    # Draw each cell manually with rounded corners\n",
    "    for y, (day, row) in enumerate(heatmap_data.iterrows()):\n",
    "        for x, value in enumerate(row):\n",
    "            if not np.isnan(value):\n",
    "                color = cmap((value - 1.0) / 4.0)\n",
    "                rect = FancyBboxPatch(\n",
    "                    (x * (square_size + spacing), y * (square_size + spacing)),\n",
    "                    square_size, square_size,\n",
    "                    boxstyle=f\"round,pad=0,rounding_size=0.2\",\n",
    "                    linewidth=0,\n",
    "                    edgecolor=None,\n",
    "                    facecolor=color\n",
    "                )\n",
    "                ax.add_patch(rect)\n",
    "                that_day = data.iloc[y + x * 7, :]\n",
    "                if emoji and that_day.emoji != '':\n",
    "                    text = ax.annotate(that_day.emoji,\n",
    "                                (x * (square_size + spacing) + 0.120, y * (square_size + spacing) + 0.9))\n",
    "                    text.set(fontproperties=prop)\n",
    "\n",
    "    # Add month labels at the top of the heatmap\n",
    "    months = {'Jan' : 0,\n",
    "              'Feb' : 4,\n",
    "              'Mar' : 8,\n",
    "              'Apr' : 13,\n",
    "              'May' : 17,\n",
    "              'Jun' : 21,\n",
    "              'Jul' : 25,\n",
    "              'Aug' : 30,\n",
    "              'Sep' : 34,\n",
    "              'Oct' : 38,\n",
    "              'Nov' : 43,\n",
    "              'Dec' : 47}\n",
    "    for i, month in enumerate(months):\n",
    "        ax.text(\n",
    "            months[month] * (square_size + spacing),\n",
    "            heatmap_data.shape[0] * (square_size + spacing) + 0.5,\n",
    "            month,\n",
    "            ha='left', va='bottom', color='white', fontsize=10, fontweight='bold', fontname=font\n",
    "        )\n",
    "\n",
    "    # Add weekday labels on the y-axis\n",
    "    weekdays = ['Mon', 'Tue', 'Wed', 'Thu', 'Fri', 'Sat', 'Sun']\n",
    "    first_weekday = start_date.day_of_week\n",
    "    for i, weekday in enumerate(weekdays):\n",
    "        y_pos = ((first_weekday + i) % 7) * (square_size + spacing)\n",
    "        if ((first_weekday + i) % 7) % 2 == 1 : continue\n",
    "        ax.text(\n",
    "            -0.5,\n",
    "            y_pos,\n",
    "            weekday,\n",
    "            ha='right', va='top', color='white', fontsize=10, fontweight='bold', fontname=font\n",
    "        )\n",
    "\n",
    "    # Adjust the limits and remove axes\n",
    "    ax.set_xlim(0, heatmap_data.shape[1] * (square_size + spacing))\n",
    "    ax.set_ylim(0, heatmap_data.shape[0] * (square_size + spacing))\n",
    "    ax.invert_yaxis()\n",
    "    ax.axis('off')\n",
    "\n",
    "    # TODO: add possibility to rotate 90° clockwise\n",
    "\n",
    "    # Save the heatmap to a SVG file with a transparent background\n",
    "    plt.savefig(output_file, dpi=600, bbox_inches='tight', pad_inches=0, transparent=True)\n",
    "    plt.close()"
   ]
  },
  {
   "cell_type": "code",
   "execution_count": 9,
   "metadata": {},
   "outputs": [],
   "source": [
    "# Execution (2024)\n",
    "generate_pixels_heatmap(data_current_year.copy(), palette_list, 'pixels_grid.svg')"
   ]
  },
  {
   "cell_type": "markdown",
   "metadata": {},
   "source": [
    "# Average Rating YoY"
   ]
  },
  {
   "cell_type": "code",
   "execution_count": 10,
   "metadata": {},
   "outputs": [],
   "source": [
    "# Avg rating viz function, YoY increments if existing\n",
    "def plot_average_rating(data : pd.DataFrame, palette_list : list[str], output_file : str):\n",
    "    \"\"\"\n",
    "    Plot a colorbar representing the ratings range and draw the average rating on it.\n",
    "\n",
    "    Parameters:\n",
    "        data (pd.DataFrame): DataFrame with 'scores' column.\n",
    "        palette_list (list): List of hexadecimal color strings defining the color palette.\n",
    "        output_file (str): Path to save the resulting SVG image.\n",
    "\n",
    "    Returns:\n",
    "        None.\n",
    "    \"\"\"\n",
    "    # Define the ratings range\n",
    "    ratings_range = (0, 5)\n",
    "\n",
    "    # Calculate the average rating\n",
    "    average_rating = data['scores'].mean()\n",
    "\n",
    "    # Create a LinearSegmentedColormap from the palette\n",
    "    cmap = generate_colormap_from_hex_list(palette_list)\n",
    "\n",
    "    # Create a figure and axis\n",
    "    fig, ax = plt.subplots(figsize=(10, 1))\n",
    "\n",
    "    range_x_axis = np.linspace(ratings_range[0], ratings_range[1], len(palette_list)*256)\n",
    "\n",
    "    # Draw the colorbar\n",
    "    norm = Normalize(vmin=ratings_range[0], vmax=ratings_range[1])\n",
    "    thinness = 20\n",
    "    aspect = 1/thinness\n",
    "    cb = ax.imshow(range_x_axis.reshape((1,len(palette_list)*256)), cmap=cmap, aspect=aspect, norm=norm, extent=[ratings_range[0], ratings_range[1],0, thinness])\n",
    "    ax.set_yticks([])\n",
    "    ax.set_xticks([])\n",
    "\n",
    "    # TODO: Draw the rating milestones\n",
    "    # milestones = range_x_axis\n",
    "    # for milestone in milestones:\n",
    "    #     ax.scatter(milestone * 256 / ratings_range[1], 0.5, color=cmap(norm(milestone)), s=800, edgecolors='black', zorder=20)\n",
    "\n",
    "    # Draw the average rating indicator\n",
    "    ax.axvline(average_rating, color='white', linewidth=5, zorder=10)\n",
    "    ax.text(ratings_range[0] - 0.1, 0.5, f'{average_rating:.2f}', color='white', ha='right', va='bottom', fontsize=48, fontweight='bold', fontname=font)\n",
    "    fig.set_facecolor('black')\n",
    "\n",
    "    plt.savefig(output_file, dpi=600, bbox_inches='tight', pad_inches=0, transparent=True)\n",
    "    plt.close()"
   ]
  },
  {
   "cell_type": "code",
   "execution_count": 11,
   "metadata": {},
   "outputs": [],
   "source": [
    "# Show the plot\n",
    "plot_average_rating(data_current_year.copy(), palette_list, 'avg_rating_curr_year.svg')"
   ]
  },
  {
   "cell_type": "code",
   "execution_count": 12,
   "metadata": {},
   "outputs": [],
   "source": [
    "# Line chart of avg rating per year\n",
    "def plot_ratings_per_year(data_all : pd.DataFrame, label : str, palette_list : list[str], output_file : str, what : str = 'mean'):\n",
    "    \"\"\"\n",
    "    Plot a line chart with value averages per year.\n",
    "\n",
    "    Parameters:\n",
    "        data_all (pd.DataFrame): DataFrame containing timed ratings.\n",
    "        label (str): The column of ratings to be averaged.\n",
    "        palette_list (list): List of hexadecimal color strings defining the color palette.\n",
    "        output_file (str): Path to save the resulting SVG image.\n",
    "\n",
    "    Returns:\n",
    "        None.\n",
    "    \"\"\"\n",
    "\n",
    "    if label == 'emoji':\n",
    "        data_all['emoji'] = data_all['emoji'].apply(lambda x : 1.0 if x != '' else 0.0)\n",
    "\n",
    "    years = list(range(\n",
    "        data_all.loc[0,['date']].to_numpy()[0].year,\n",
    "        data_all.loc[data_all.shape[0]-1, ['date']].to_numpy()[0].year+1,\n",
    "        1))\n",
    "\n",
    "    avgs = []\n",
    "    for year in years:\n",
    "        filter = data_all['date'].apply(lambda x : check_year(x, year)) #TODO : check_year not needed anymore, substitute with data['date'].dt.year == year\n",
    "        data_filtered = data_all[filter]\n",
    "\n",
    "        if what == 'mean':\n",
    "            avgs.append(data_filtered[label].mean())\n",
    "        elif what == 'sum':\n",
    "           avgs.append(data_filtered[label].sum()) \n",
    "        else:\n",
    "            raise AttributeError(f'{what} is not an implemented aggregation.')\n",
    "\n",
    "    fig, ax = plt.subplots(figsize=(5,4))\n",
    "\n",
    "    for data_point in range(len(avgs)):\n",
    "        ax.annotate(f'{avgs[data_point]:.2f}', (years[data_point]+0.1,avgs[data_point]), color='white', fontname=font, fontsize=15, fontweight='bold')\n",
    "        if data_point > 0 :\n",
    "            yoy_diff = avgs[data_point] - avgs[data_point - 1]\n",
    "            sign = '' if yoy_diff < 0 else '+'\n",
    "            color = '#'+palette_list[0] if yoy_diff < 0 else '#'+palette_list[-1]\n",
    "            lateral_offset = years[data_point - 1] + 0.6\n",
    "            vertical_offset = (avgs[data_point] + avgs[data_point - 1]) / 2.0\n",
    "            ax.annotate(f'{sign}{yoy_diff:.2f}', (lateral_offset, vertical_offset), color=color, fontname=font, fontsize=12, fontweight='bold')\n",
    "        ax.axvline(years[data_point], ymin=0.0, ymax=(avgs[data_point]-min(avgs))/(max(avgs)-min(avgs)) - 0.025, color='white', linestyle='--')\n",
    "\n",
    "    ax.plot(years, avgs, 'o-', color='white', linewidth=3.5, markersize=10) #TODO : use sns.lineplot to obtain smoother curves\n",
    "    ax.set_yticks([])\n",
    "    ax.set_xticks(years, labels=years, fontname=font, fontweight='bold', fontsize=17, color='white')\n",
    "    fig.set_facecolor('black')\n",
    "    ax.set_facecolor('black')\n",
    "\n",
    "    ax.set_frame_on(False)\n",
    "\n",
    "    plt.savefig(output_file, dpi=600, bbox_inches='tight', pad_inches=0, transparent=True)\n",
    "    plt.close()"
   ]
  },
  {
   "cell_type": "code",
   "execution_count": 13,
   "metadata": {},
   "outputs": [],
   "source": [
    "# Execution (2024)\n",
    "plot_ratings_per_year(data_all.copy(), 'scores', palette_list, 'avg_ratings_per_year.svg')"
   ]
  },
  {
   "cell_type": "markdown",
   "metadata": {},
   "source": [
    "# Rating Frequency"
   ]
  },
  {
   "cell_type": "code",
   "execution_count": 14,
   "metadata": {},
   "outputs": [],
   "source": [
    "# Rating frequency pie chart (with YoY increments if existing) viz function\n",
    "def plot_rating_frequency_pie_chart(data_current_year : pd.DataFrame, palette_list : list[str], output_file : str, data_previous_year : pd.DataFrame = None):\n",
    "    \"\"\"\"\"\"\n",
    "\n",
    "    # count rating frequencies\n",
    "    rating_frequencies_current_year = data_current_year.groupby('scores').count()['date'].to_numpy(dtype=np.int32)\n",
    "\n",
    "    # if YoY, compute previous year's measures\n",
    "    if data_previous_year is not None:\n",
    "        rating_frequencies_previous_year = data_previous_year.groupby('scores').count()['date'].to_numpy(dtype=np.int32)\n",
    "        previous_year_pcts = rating_frequencies_previous_year / 365.0 * 100.0\n",
    "\n",
    "    # plot pie chart\n",
    "    fig, ax = plt.subplots(figsize=(5,5))\n",
    "\n",
    "    # adjust palette\n",
    "    palette_list = ['#'+color for color in palette_list]\n",
    "\n",
    "    # use emojis as labels\n",
    "    prop = FontProperties(fname='/System/Library/Fonts/Apple Color Emoji.ttc', size=23)\n",
    "\n",
    "    # set properties of percentage text labels\n",
    "    textprops = {\n",
    "        'fontsize' : 10,\n",
    "        'fontname' : font,\n",
    "        'color' : 'white'\n",
    "    }\n",
    "\n",
    "    # draw pie chart\n",
    "    _, texts, autotexts = ax.pie(x=rating_frequencies_current_year,\n",
    "           labeldistance=0.90,\n",
    "           labels=['😭', '😢', '😐', '🙂', '😁'],\n",
    "           colors=palette_list,\n",
    "           autopct=f\"%.2f%%\",\n",
    "           textprops=textprops)\n",
    "    \n",
    "    for text in texts:\n",
    "        text.set_fontproperties(prop)\n",
    "\n",
    "    for t in range(len(autotexts)):\n",
    "        if data_previous_year is None:\n",
    "            autotexts[t].set_text(autotexts[t].get_text() + f\" ({rating_frequencies_current_year[t]})\")\n",
    "        else:\n",
    "            pct_difference = float(autotexts[t].get_text()[:-1]) - (previous_year_pcts[t])\n",
    "            sign = '+' if pct_difference > 0 else ''\n",
    "            autotexts[t].set_text(autotexts[t].get_text() + f\" ({sign}{pct_difference:.2f})\")\n",
    "\n",
    "    fig.set_facecolor('black')\n",
    "    ax.set_facecolor('black')\n",
    "\n",
    "    ax.set_frame_on(False)\n",
    "\n",
    "    plt.savefig(output_file, dpi=600, bbox_inches='tight', pad_inches=0, transparent=True)\n",
    "    plt.close()"
   ]
  },
  {
   "cell_type": "code",
   "execution_count": 15,
   "metadata": {},
   "outputs": [],
   "source": [
    "# Execution (2024)\n",
    "plot_rating_frequency_pie_chart(data_current_year.copy(), palette_list, 'rating_frequency_pie_chart.svg', data_previous_year)"
   ]
  },
  {
   "cell_type": "markdown",
   "metadata": {},
   "source": [
    "# Avg Rating per Weekday"
   ]
  },
  {
   "cell_type": "code",
   "execution_count": 16,
   "metadata": {},
   "outputs": [],
   "source": [
    "# Function to make rounded bars in bar plots\n",
    "def round_bars(ax):\n",
    "    \"\"\"\"\"\"\n",
    "    new_patches = []\n",
    "    for patch in reversed(ax.patches):\n",
    "        bb = patch.get_bbox()\n",
    "        color = patch.get_facecolor()\n",
    "        \n",
    "        # Create a FancyBboxPatch with rounded corners\n",
    "        p_bbox = FancyBboxPatch(\n",
    "            (bb.xmin, bb.ymin),\n",
    "            abs(bb.width),\n",
    "            abs(bb.height),\n",
    "            boxstyle=\"round,pad=0,rounding_size=0.020\",\n",
    "            ec=\"none\", fc=color,\n",
    "            mutation_aspect=4\n",
    "        )\n",
    "        \n",
    "        # Remove the old patch and add the new one\n",
    "        patch.remove()\n",
    "        new_patches.append(p_bbox)\n",
    "\n",
    "    # Add all new patches to the axes\n",
    "    for patch in new_patches:\n",
    "        ax.add_patch(patch)"
   ]
  },
  {
   "cell_type": "code",
   "execution_count": 17,
   "metadata": {},
   "outputs": [],
   "source": [
    "# (Normalized) Avg rating/productivity level per weekday/tag viz function, with YoY increments if existing\n",
    "def plot_avg_ratings_per_weekday(data_all : pd.DataFrame, label : str, palette_list : list[str], output_file : str):\n",
    "    \"\"\"\n",
    "    Plot a bar chart with value averages per weekday.\n",
    "\n",
    "    Parameters:\n",
    "        data_all (pd.DataFrame): DataFrame containing timed ratings.\n",
    "        label (str): The column of ratings to be averaged.\n",
    "        palette_list (list): List of hexadecimal color strings defining the color palette.\n",
    "        output_file (str): Path to save the resulting SVG image.\n",
    "\n",
    "    Returns:\n",
    "        None.\n",
    "    \"\"\"\n",
    "\n",
    "    assert label in data_all.columns, f\"No column named '{label}'\"\n",
    "    # assert data_all[label].dtype not a string and not a list\n",
    "\n",
    "    curr_year = data_all.loc[data_all.shape[0]-1, 'date'].year\n",
    "\n",
    "    total_avg = 0\n",
    "\n",
    "    yearly_avgs = []\n",
    "    for year in range (curr_year-1, curr_year+1):\n",
    "        mask_year = data_all['date'].apply(lambda x : check_year(x, year))\n",
    "        data_year = data_all[mask_year]\n",
    "        data_year['weekday'] = data_year['date'].apply(lambda x : datetime.date.weekday(x))\n",
    "        yearly_avgs.append(data_year.groupby('weekday', axis=0)[label].mean().to_numpy())\n",
    "        if year == curr_year:\n",
    "            total_avg = float(data_year[label].mean())\n",
    "\n",
    "    fig, ax = plt.subplots(figsize=(9,4))\n",
    "\n",
    "    yoy_diffs = [yearly_avgs[-1][i] - yearly_avgs[0][i] for i in range(7)]\n",
    "    for j in range(7):\n",
    "        yoy_diffs[j] = '+'+f'{yoy_diffs[j]:.2f}' if yoy_diffs[j] > 0 else f'{yoy_diffs[j]:.2f}'\n",
    "        if '0.00' in yoy_diffs[j] : yoy_diffs[j] = '='\n",
    "\n",
    "    container = ax.bar(range(7), yearly_avgs[-1], color='white', width=0.3)\n",
    "    ax.bar_label(container, labels=[f\"{yearly_avgs[-1][i]:.2f}({yoy_diffs[i]})\" for i in range(7)], fontname=font, fontsize=11, color='white', padding=18)\n",
    "    round_bars(ax)\n",
    "    ax.axhline(total_avg, xmin=0.04, color='#'+palette_list[0], linestyle='--')\n",
    "    ax.annotate('AVG', (-0.45, total_avg), fontname=font, fontsize=8, color='#'+palette_list[0], va='center')\n",
    "    ax.set_yticks([])\n",
    "    ax.set_xticks(range(7), labels=['Mon', 'Tue', 'Wed', 'Thu', 'Fri', 'Sat', 'Sun'], fontname=font, fontweight='bold', fontsize=17, color='white')\n",
    "    ax.set_ylim(0, 5)\n",
    "    fig.set_facecolor('black')\n",
    "    ax.set_facecolor('black')\n",
    "\n",
    "    ax.set_frame_on(False)\n",
    "\n",
    "    plt.savefig(output_file, dpi=600, bbox_inches='tight', pad_inches=0, transparent=True)\n",
    "    plt.close()"
   ]
  },
  {
   "cell_type": "code",
   "execution_count": 18,
   "metadata": {},
   "outputs": [
    {
     "name": "stderr",
     "output_type": "stream",
     "text": [
      "/var/folders/pp/q0kl1bl507q_7gsf1tczbrg80000gn/T/ipykernel_21881/1437564756.py:27: SettingWithCopyWarning: \n",
      "A value is trying to be set on a copy of a slice from a DataFrame.\n",
      "Try using .loc[row_indexer,col_indexer] = value instead\n",
      "\n",
      "See the caveats in the documentation: https://pandas.pydata.org/pandas-docs/stable/user_guide/indexing.html#returning-a-view-versus-a-copy\n",
      "  data_year['weekday'] = data_year['date'].apply(lambda x : datetime.date.weekday(x))\n",
      "/var/folders/pp/q0kl1bl507q_7gsf1tczbrg80000gn/T/ipykernel_21881/1437564756.py:28: FutureWarning: The 'axis' keyword in DataFrame.groupby is deprecated and will be removed in a future version.\n",
      "  yearly_avgs.append(data_year.groupby('weekday', axis=0)[label].mean().to_numpy())\n",
      "/var/folders/pp/q0kl1bl507q_7gsf1tczbrg80000gn/T/ipykernel_21881/1437564756.py:27: SettingWithCopyWarning: \n",
      "A value is trying to be set on a copy of a slice from a DataFrame.\n",
      "Try using .loc[row_indexer,col_indexer] = value instead\n",
      "\n",
      "See the caveats in the documentation: https://pandas.pydata.org/pandas-docs/stable/user_guide/indexing.html#returning-a-view-versus-a-copy\n",
      "  data_year['weekday'] = data_year['date'].apply(lambda x : datetime.date.weekday(x))\n",
      "/var/folders/pp/q0kl1bl507q_7gsf1tczbrg80000gn/T/ipykernel_21881/1437564756.py:28: FutureWarning: The 'axis' keyword in DataFrame.groupby is deprecated and will be removed in a future version.\n",
      "  yearly_avgs.append(data_year.groupby('weekday', axis=0)[label].mean().to_numpy())\n"
     ]
    }
   ],
   "source": [
    "# Execution (2024, rating)\n",
    "plot_avg_ratings_per_weekday(data_all.copy(), 'scores', palette_list, 'avg_ratings_per_weekday.svg')"
   ]
  },
  {
   "cell_type": "markdown",
   "metadata": {
    "vscode": {
     "languageId": "plaintext"
    }
   },
   "source": [
    "# Emotion Frequency"
   ]
  },
  {
   "cell_type": "code",
   "execution_count": 19,
   "metadata": {},
   "outputs": [],
   "source": [
    "def tag_list(data : pd.DataFrame, tag : str):\n",
    "    # collect all possible tag values\n",
    "    masked_data = data[data[tag].notna()] # masked DataFrame\n",
    "    tag_values = masked_data[tag].apply(lambda x : [x] if not isinstance(x, list) else x).sum() # list with duplicates\n",
    "    tag_values = list(dict.fromkeys(tag_values)) # remove duplicates\n",
    "\n",
    "    return tag_values"
   ]
  },
  {
   "cell_type": "code",
   "execution_count": 20,
   "metadata": {},
   "outputs": [],
   "source": [
    "# Tag frequency viz function (descending sort by frequency)\n",
    "def plot_tag_frequency(data_current_year : pd.DataFrame, tag_category : str, palette_list : list[str], output_file : str):\n",
    "    \"\"\"\n",
    "    Plot a horizontal bar chart with tags for a certain category, ordered by frequency.\n",
    "\n",
    "    Parameters:\n",
    "        data_current_year (pd.DataFrame): DataFrame containing one list of 'tag_category' tags per day.\n",
    "        tag_category (str): The category of tags to count.\n",
    "        palette_list (list): List of hexadecimal color strings defining the color palette.\n",
    "        output_file (str): Path to save the resulting SVG image.\n",
    "\n",
    "    Returns:\n",
    "        None.\n",
    "    \"\"\"\n",
    "\n",
    "    assert tag_category in data_current_year.columns, f\"No tag category called {tag_category}\"\n",
    "\n",
    "    # collect all possible tag values\n",
    "    tag_values = tag_list(data_current_year, tag_category)\n",
    "\n",
    "    # count tag appearances\n",
    "    tag_counters = {tag : 0 for tag in tag_values}\n",
    "    for index, row in data_current_year[data_current_year[tag_category].notna()].iterrows(): # iterate over masked DataFrame to avoid null values\n",
    "        tags_of_the_day = list(row[tag_category])\n",
    "        for tag in tags_of_the_day:\n",
    "            tag_counters[tag] += 1\n",
    "\n",
    "    # sort for number of appearances (descending)\n",
    "    tag_counters = pd.DataFrame(tag_counters.values(), index=tag_counters.keys(), columns=['count'])\n",
    "    tag_counters.sort_values(by='count', ascending=True, inplace=True) # plotting function will flip the order anyways\n",
    "\n",
    "    # draw horizontal bar chart\n",
    "    fig, ax = plt.subplots(figsize=(9,4)) \n",
    "\n",
    "    data = tag_counters['count'].to_numpy(dtype=np.int32)\n",
    "\n",
    "    container = ax.barh(y=range(0,len(tag_counters.index)), data=data, width=data, height=0.5, color='white')\n",
    "    # round_bars(ax)\n",
    "    ax.bar_label(container, data, color='white', fontname=font, fontsize=9, padding=6)\n",
    "\n",
    "    ax.set_yticks(range(0,len(tag_counters.index)), labels=tag_counters.index, color='white', fontname=font, fontsize=11)\n",
    "    ax.set_xticks([])\n",
    "    fig.set_facecolor('black')\n",
    "    ax.set_facecolor('black')\n",
    "\n",
    "    ax.set_frame_on(False)\n",
    "\n",
    "    plt.savefig(output_file, dpi=600, bbox_inches='tight', pad_inches=0, transparent=True)\n",
    "    plt.close()    "
   ]
  },
  {
   "cell_type": "code",
   "execution_count": 21,
   "metadata": {},
   "outputs": [],
   "source": [
    "# Execution (2024, emotions)\n",
    "plot_tag_frequency(data_current_year.copy(), 'Emotions', palette_list, 'emotion_frequency.svg')"
   ]
  },
  {
   "cell_type": "markdown",
   "metadata": {},
   "source": [
    "# Activity Frequency"
   ]
  },
  {
   "cell_type": "code",
   "execution_count": 22,
   "metadata": {},
   "outputs": [],
   "source": [
    "# Execution (2024, activities)\n",
    "plot_tag_frequency(data_current_year.copy(), 'Activities', palette_list, 'activity_frequency.svg')"
   ]
  },
  {
   "cell_type": "markdown",
   "metadata": {
    "vscode": {
     "languageId": "plaintext"
    }
   },
   "source": [
    "# Activity-Emotion Correlation"
   ]
  },
  {
   "cell_type": "code",
   "execution_count": 23,
   "metadata": {},
   "outputs": [],
   "source": [
    "# Pairwise tag-tag correlation (Pearson) heatmap function\n",
    "def plot_tag_to_tag_correlation_heatmap(data_current_year : pd.DataFrame, tag_1 : str, tag_2 : str, palette_list : list[str], output_file : str):\n",
    "    \"\"\"\"\"\"\n",
    "\n",
    "    # compute tag-2-tag correlation\n",
    "    # collect possible tag values\n",
    "    tag_keys = tag_list(data_current_year, tag_1)\n",
    "    tag_columns = tag_list(data_current_year, tag_2) if tag_2 is not None else tag_keys\n",
    "\n",
    "    tag_keys = sorted(tag_keys) # ordered alphabetically (for now)\n",
    "    tag_columns = sorted(tag_columns)\n",
    "\n",
    "    df_columns = tag_keys + tag_columns\n",
    "\n",
    "    one_hot_encoded_rows = []\n",
    "    for index, row in data_current_year.iterrows():\n",
    "        tag_1_values = list(row[tag_1]) if not isinstance(row[tag_1], float) else []\n",
    "        if tag_2 is not None : tag_2_values = list(row[tag_2]) if not isinstance(row[tag_2], float) else []\n",
    "\n",
    "        tag_1_one_hot_encoding = [1 if x in tag_1_values else 0 for x in tag_keys]\n",
    "        if tag_2 is not None : tag_2_one_hot_encoding = [1 if y in tag_2_values else 0 for y in tag_columns]\n",
    "\n",
    "        if tag_2 is not None : one_hot_encoded_rows.append(tag_1_one_hot_encoding + tag_2_one_hot_encoding)\n",
    "        else : one_hot_encoded_rows.append([tag_1_one_hot_encoding])\n",
    "\n",
    "    one_hot_encoded_rows = pd.DataFrame(one_hot_encoded_rows, index=data_current_year.index, columns=df_columns)\n",
    "\n",
    "    tag_table = pd.concat([data_current_year['date'], one_hot_encoded_rows], axis=1)\n",
    "\n",
    "    # TODO : order rows by number of appearances\n",
    "    correlations = tag_table.corr(method='pearson')\n",
    "\n",
    "    self_correlations = correlations.loc[tag_keys, tag_keys] # could need for some heatmap in the future?\n",
    "    ethero_correlations = correlations.loc[tag_keys, tag_columns]\n",
    "\n",
    "    correlations_to_plot = ethero_correlations if tag_2 is not None else self_correlations\n",
    "\n",
    "    # Create a LinearSegmentedColormap from the palette\n",
    "    cmap = generate_colormap_from_hex_list(palette_list)\n",
    "\n",
    "    fig, ax = plt.subplots(figsize=(10,10))\n",
    "    \n",
    "    # draw 2d heatmap\n",
    "    ax = sns.heatmap(correlations_to_plot, center=0.0, cmap=cmap, square=True, cbar=False)\n",
    "\n",
    "    # TODO: (all notebook) make ticks invisible, but not labels\n",
    "    cbar = ax.figure.colorbar(ax.collections[0], shrink=0.63)\n",
    "    cbar.set_ticks(cbar.get_ticks()[1:-1], labels=cbar.get_ticks()[1:-1], fontname=font, color='white')\n",
    "    ax.set_yticks(range(0,len(tag_keys)), labels=['\\n'+key for key in tag_keys], fontname=font, color='white', va='top')\n",
    "    ax.set_xticks(range(0,len(tag_columns)), labels=['\\n'+col for col in tag_columns], fontname=font, color='white', ha='left')\n",
    "    ax.set_facecolor('black')\n",
    "    fig.set_facecolor('black')\n",
    "\n",
    "    plt.savefig(output_file, dpi=600, bbox_inches='tight', pad_inches=0, transparent=True)\n",
    "    plt.close()"
   ]
  },
  {
   "cell_type": "code",
   "execution_count": 24,
   "metadata": {},
   "outputs": [],
   "source": [
    "# Execution (2024, activity v. emotion)\n",
    "plot_tag_to_tag_correlation_heatmap(data_current_year.copy(), 'Activities', 'Emotions', palette_list, 'activity_emotion_correlation.svg')"
   ]
  },
  {
   "cell_type": "markdown",
   "metadata": {},
   "source": [
    "# Location-Emotion Correlation"
   ]
  },
  {
   "cell_type": "code",
   "execution_count": 25,
   "metadata": {},
   "outputs": [],
   "source": [
    "# Execution (2024, location v. emotion)\n",
    "plot_tag_to_tag_correlation_heatmap(data_current_year.copy(), 'Location', 'Emotions', palette_list, 'location_emotion_correlation.svg')"
   ]
  },
  {
   "cell_type": "markdown",
   "metadata": {},
   "source": [
    "# Sick Days 🤒"
   ]
  },
  {
   "cell_type": "code",
   "execution_count": 26,
   "metadata": {},
   "outputs": [],
   "source": [
    "def sick_day(row : pd.DataFrame) -> str:\n",
    "    assert set(['scores', 'Symptoms', 'Medication']).issubset(set(row.index)), \"Wrong columns.\"\n",
    "    if isinstance(row['Symptoms'], float) or isinstance(row['Medication'], float) : return ''\n",
    "    if len(row['Symptoms'] + row['Medication']) > 4.0:\n",
    "        if row['scores'] < 2.0 : return '💀'\n",
    "        else : return '🤒'\n",
    "    return ''"
   ]
  },
  {
   "cell_type": "code",
   "execution_count": 27,
   "metadata": {},
   "outputs": [
    {
     "name": "stderr",
     "output_type": "stream",
     "text": [
      "/var/folders/pp/q0kl1bl507q_7gsf1tczbrg80000gn/T/ipykernel_21881/1311984567.py:20: SettingWithCopyWarning: \n",
      "A value is trying to be set on a copy of a slice from a DataFrame.\n",
      "Try using .loc[row_indexer,col_indexer] = value instead\n",
      "\n",
      "See the caveats in the documentation: https://pandas.pydata.org/pandas-docs/stable/user_guide/indexing.html#returning-a-view-versus-a-copy\n",
      "  df['date'] = pd.to_datetime(df['date'])\n"
     ]
    }
   ],
   "source": [
    "# Number of symptoms + number of pharmaceuticals calendar viz function, ratings in semi-transparency, skull 💀 emoji if bad day + sick day\n",
    "data_sick_days = data_all.copy()\n",
    "# data_sick_days\n",
    "data_sick_days['emoji'] = data_sick_days.apply(sick_day, axis=1)\n",
    "data_sick_days_current_year = data_sick_days[data_sick_days['date'].dt.year == 2024]\n",
    "\n",
    "generate_pixels_heatmap(data_sick_days_current_year, palette_list, 'sick_days_heatmap.svg', True)"
   ]
  },
  {
   "cell_type": "code",
   "execution_count": 28,
   "metadata": {},
   "outputs": [],
   "source": [
    "# Total number of sick (💀) days per year line chart\n",
    "plot_ratings_per_year(data_sick_days, 'emoji', palette_list, 'sick_days_per_year.svg', what='sum')"
   ]
  },
  {
   "cell_type": "markdown",
   "metadata": {},
   "source": [
    "# Productivity"
   ]
  },
  {
   "cell_type": "code",
   "execution_count": 29,
   "metadata": {},
   "outputs": [],
   "source": [
    "# Productivity calendar viz function, ratings in semi-transparency\n",
    "def productive_day(row : pd.DataFrame) -> str :\n",
    "    assert set(['Productivity Rating']).issubset(set(row.index)), \"Wrong columns.\"\n",
    "    if row['Productivity Rating'] >= 4.0 : return '💪'\n",
    "    elif row['Productivity Rating'] == 0.0 : return '😴'\n",
    "    else : return ''"
   ]
  },
  {
   "cell_type": "code",
   "execution_count": 30,
   "metadata": {},
   "outputs": [],
   "source": [
    "# Average productivity per year line chart\n",
    "plot_ratings_per_year(data_all.copy(), 'Productivity Rating', palette_list, 'avg_productivity_per_year.svg')"
   ]
  },
  {
   "cell_type": "code",
   "execution_count": 31,
   "metadata": {},
   "outputs": [
    {
     "name": "stderr",
     "output_type": "stream",
     "text": [
      "/var/folders/pp/q0kl1bl507q_7gsf1tczbrg80000gn/T/ipykernel_21881/1437564756.py:27: SettingWithCopyWarning: \n",
      "A value is trying to be set on a copy of a slice from a DataFrame.\n",
      "Try using .loc[row_indexer,col_indexer] = value instead\n",
      "\n",
      "See the caveats in the documentation: https://pandas.pydata.org/pandas-docs/stable/user_guide/indexing.html#returning-a-view-versus-a-copy\n",
      "  data_year['weekday'] = data_year['date'].apply(lambda x : datetime.date.weekday(x))\n",
      "/var/folders/pp/q0kl1bl507q_7gsf1tczbrg80000gn/T/ipykernel_21881/1437564756.py:28: FutureWarning: The 'axis' keyword in DataFrame.groupby is deprecated and will be removed in a future version.\n",
      "  yearly_avgs.append(data_year.groupby('weekday', axis=0)[label].mean().to_numpy())\n",
      "/var/folders/pp/q0kl1bl507q_7gsf1tczbrg80000gn/T/ipykernel_21881/1437564756.py:27: SettingWithCopyWarning: \n",
      "A value is trying to be set on a copy of a slice from a DataFrame.\n",
      "Try using .loc[row_indexer,col_indexer] = value instead\n",
      "\n",
      "See the caveats in the documentation: https://pandas.pydata.org/pandas-docs/stable/user_guide/indexing.html#returning-a-view-versus-a-copy\n",
      "  data_year['weekday'] = data_year['date'].apply(lambda x : datetime.date.weekday(x))\n",
      "/var/folders/pp/q0kl1bl507q_7gsf1tczbrg80000gn/T/ipykernel_21881/1437564756.py:28: FutureWarning: The 'axis' keyword in DataFrame.groupby is deprecated and will be removed in a future version.\n",
      "  yearly_avgs.append(data_year.groupby('weekday', axis=0)[label].mean().to_numpy())\n"
     ]
    }
   ],
   "source": [
    "# Avg productivity per weekday execution (2024)\n",
    "plot_avg_ratings_per_weekday(data_all.copy(), 'Productivity Rating', palette_list, 'avg_productivity_per_weekday.svg')"
   ]
  },
  {
   "cell_type": "code",
   "execution_count": 32,
   "metadata": {},
   "outputs": [],
   "source": [
    "# Execution (2024)\n",
    "data_productive_days = data_current_year.copy()\n",
    "\n",
    "data_productive_days['emoji'] = data_productive_days.apply(productive_day, axis=1)\n",
    "\n",
    "generate_pixels_heatmap(data_productive_days, palette_list, 'productive_days_heatmap.svg', emoji=True)"
   ]
  },
  {
   "cell_type": "markdown",
   "metadata": {},
   "source": [
    "# Weighted Avg Rating per Tag"
   ]
  },
  {
   "cell_type": "code",
   "execution_count": 33,
   "metadata": {},
   "outputs": [],
   "source": [
    "def _in(contained, container) -> bool:\n",
    "    if isinstance(container, list) : return contained in container\n",
    "    else : return contained == container"
   ]
  },
  {
   "cell_type": "code",
   "execution_count": 34,
   "metadata": {},
   "outputs": [],
   "source": [
    "# TODO: YoY?\n",
    "# (Normalized) avg rating per tag viz function\n",
    "def plot_avg_rating_per_tag(data_current_year : pd.DataFrame, label : str, palette_list : list[str], output_file : str, shrink : float = 0.0):\n",
    "    \"\"\"\"\"\"\n",
    "\n",
    "    assert label in data_current_year.columns, f\"No column named '{label}'\"\n",
    "    # assert data_all[label].dtype not a string and not a list\n",
    "\n",
    "    curr_year = data_current_year.loc[data_all.shape[0]-1, 'date'].year\n",
    "    tag_values = tag_list(data_current_year, label)\n",
    "\n",
    "    tag_values = sorted(tag_values)\n",
    "\n",
    "    total_avg = 0\n",
    "\n",
    "    yearly_avgs = []\n",
    "    for tag in tag_values:\n",
    "        data_current_year[str(tag)] = data_current_year[label].apply(lambda x : 1 if _in(tag, x) else 0)\n",
    "        data_to_avg = data_current_year[data_current_year[str(tag)] == 1]\n",
    "        yearly_avgs.append(data_to_avg['scores'].sum() / (data_to_avg.shape[0] + shrink)) # shrunk mean (penalize values with few appearances)\n",
    "    \n",
    "    total_avg = float(data_current_year['scores'].mean())\n",
    "\n",
    "    fig, ax = plt.subplots(figsize=(9,4))\n",
    "\n",
    "    # TODO: maybe for the future?\n",
    "    # yoy_diffs = [yearly_avgs[-1][i] - yearly_avgs[0][i] for i in range(7)]\n",
    "    # for j in range(7):\n",
    "    #     yoy_diffs[j] = '+'+f'{yoy_diffs[j]:.2f}' if yoy_diffs[j] > 0 else f'{yoy_diffs[j]:.2f}'\n",
    "    #     if '0.00' in yoy_diffs[j] : yoy_diffs[j] = '='\n",
    "\n",
    "    # TODO: sort? Alphabetical for now\n",
    "\n",
    "    container = ax.bar(range(len(tag_values)), yearly_avgs, color='white', width=0.3)\n",
    "    ax.bar_label(container, labels=[f\"{yearly_avgs[i]:.2f}\" for i in range(len(tag_values))], fontname=font, fontsize=11, color='white', padding=18) #({yoy_diffs[i]})\n",
    "    round_bars(ax)\n",
    "    ax.axhline(total_avg, xmin=0.04, color='#'+palette_list[0], linestyle='--')\n",
    "    ax.annotate('AVG', (len(tag_values)-0.65, total_avg+0.1), fontname=font, fontsize=8, color='#'+palette_list[0], va='center')\n",
    "    ax.set_yticks([])\n",
    "\n",
    "    rotation = 90 if len(tag_values) > 6 else 0 # I don't want productivity ratings rotated\n",
    "\n",
    "    ax.set_xticks(range(len(tag_values)), labels=tag_values, fontname=font, fontweight='bold', fontsize=17, color='white', rotation=rotation)\n",
    "    ax.set_ylim(0, 5)\n",
    "    fig.set_facecolor('black')\n",
    "    ax.set_facecolor('black')\n",
    "\n",
    "    ax.set_frame_on(False)\n",
    "\n",
    "    plt.savefig(output_file, dpi=600, bbox_inches='tight', pad_inches=1.0, transparent=True)\n",
    "    plt.close()"
   ]
  },
  {
   "cell_type": "code",
   "execution_count": 35,
   "metadata": {},
   "outputs": [],
   "source": [
    "# (Normalized) Avg rating per productivity level execution (2024)\n",
    "plot_avg_rating_per_tag(data_current_year.copy(), 'Productivity Rating', palette_list, 'avg_rating_per_productivity.svg')"
   ]
  },
  {
   "cell_type": "code",
   "execution_count": 36,
   "metadata": {},
   "outputs": [],
   "source": [
    "# (Normalized) Avg rating per location execution (2024)\n",
    "plot_avg_rating_per_tag(data_current_year.copy(), 'Location', palette_list, 'avg_rating_per_location.svg', shrink=0.666)"
   ]
  },
  {
   "cell_type": "code",
   "execution_count": 37,
   "metadata": {},
   "outputs": [],
   "source": [
    "# (Normalized) Avg rating per emotion execution (2024)\n",
    "plot_avg_rating_per_tag(data_current_year.copy(), 'Emotions', palette_list, 'avg_rating_per_emotion.svg', shrink=0.666)"
   ]
  },
  {
   "cell_type": "code",
   "execution_count": 38,
   "metadata": {},
   "outputs": [],
   "source": [
    "# (Normalized) Avg rating per activity execution (2024)\n",
    "plot_avg_rating_per_tag(data_current_year.copy(), 'Activities', palette_list, 'avg_rating_per_activity.svg', shrink=0.666)"
   ]
  },
  {
   "cell_type": "code",
   "execution_count": 39,
   "metadata": {},
   "outputs": [],
   "source": [
    "# (Normalized) Avg rating per medication execution (2024)\n",
    "plot_avg_rating_per_tag(data_current_year.copy(), 'Medication', palette_list, 'avg_rating_per_medication.svg')"
   ]
  },
  {
   "cell_type": "code",
   "execution_count": 40,
   "metadata": {},
   "outputs": [],
   "source": [
    "# (Normalized) Avg rating per symptom execution (2024)\n",
    "plot_avg_rating_per_tag(data_current_year.copy(), 'Symptoms', palette_list, 'avg_rating_per_symptom.svg', shrink=0.666)"
   ]
  },
  {
   "cell_type": "markdown",
   "metadata": {},
   "source": [
    "# Locations Visited 🛫"
   ]
  },
  {
   "cell_type": "code",
   "execution_count": 41,
   "metadata": {},
   "outputs": [],
   "source": [
    "# 3D Map with visit frequency and average rating per location viz function"
   ]
  },
  {
   "cell_type": "code",
   "execution_count": 42,
   "metadata": {},
   "outputs": [],
   "source": [
    "# Execution (2024)"
   ]
  },
  {
   "cell_type": "markdown",
   "metadata": {},
   "source": [
    "# Word Clouds ☁️"
   ]
  },
  {
   "cell_type": "code",
   "execution_count": 128,
   "metadata": {},
   "outputs": [],
   "source": [
    "additional_stopwords = [\n",
    "    \"i'm\",\n",
    "    \"it's\",\n",
    "    \"kinda\",\n",
    "    \"said\",\n",
    "    \"overall\",\n",
    "    \"anyways\"\n",
    "]\n",
    "\n",
    "stopwords = set(STOPWORDS)\n",
    "\n",
    "for word in additional_stopwords:\n",
    "    stopwords.add(word)"
   ]
  },
  {
   "cell_type": "code",
   "execution_count": 124,
   "metadata": {},
   "outputs": [],
   "source": [
    "def term_list(document_corpus : pd.DataFrame, label : str) -> list[str]:\n",
    "    \"\"\"\"\"\"\n",
    "\n",
    "    document_corpus[label] = document_corpus[label].apply(lambda x : [y.strip(string.punctuation) for y in x.strip().lower().split()])\n",
    "    terms = tag_list(document_corpus, label)\n",
    "    terms.remove('')\n",
    "    return terms"
   ]
  },
  {
   "cell_type": "code",
   "execution_count": 119,
   "metadata": {},
   "outputs": [],
   "source": [
    "def tf_idf(document_corpus : pd.DataFrame, label : str) -> dict:\n",
    "    \"\"\"\"\"\"\n",
    "\n",
    "    assert label in document_corpus.columns, f\"{label} is not a valid column.\"\n",
    "    \n",
    "    # convert column dtype to string\n",
    "    document_corpus[label] = document_corpus[label].apply(lambda x : str(x))\n",
    "\n",
    "    # compute list of possible terms (avoiding STOPWORDS)\n",
    "    terms = term_list(document_corpus, label)\n",
    "    terms = list(set(terms) - STOPWORDS)\n",
    "\n",
    "\n",
    "    # compute term frequency and document frequency for each term\n",
    "    tf = []\n",
    "    df = {term : 0 for term in terms}\n",
    "    for index, row in document_corpus.iterrows():\n",
    "        previous_df = deepcopy(df)\n",
    "        for term in row[label]:\n",
    "            if term in df.keys() : df[term] += 1 \n",
    "        tf_row = {term : df[term] - previous_df[term] for term in df}\n",
    "        tf.append(tf_row)\n",
    "\n",
    "    tf = pd.DataFrame(tf, dtype=\"Sparse[int]\")\n",
    "\n",
    "    # TF-IDF = tf(i,j) * log(N/df(i))\n",
    "    tf_idf = tf.apply(lambda x : x * np.log(tf.shape[0] / df[x.name]), axis=0)\n",
    "\n",
    "    return tf_idf.mean().to_dict()\n",
    "        "
   ]
  },
  {
   "cell_type": "code",
   "execution_count": 120,
   "metadata": {},
   "outputs": [],
   "source": [
    "# Word cloud per daily notes (filtered by rating) viz function\n",
    "def plot_wordcloud_from_daily_notes(data : pd.DataFrame, palette_list : list[str], output_file : str, ratings_range : tuple[int] = (0,6), img_path : str = './face-smile-solid.png', use_tf_idf : bool = True):\n",
    "    \"\"\"\"\"\"\n",
    "\n",
    "    # Filter data to include only the ratings specified in ratings_range\n",
    "    assert len(ratings_range) == 2, \"Ratings range is required to have length equal to 2.\"\n",
    "    filtered_data = data[(data['scores'] > ratings_range[0]) & (data['scores'] < ratings_range[1])]\n",
    "    \n",
    "    mask = np.array(Image.open(img_path))\n",
    "\n",
    "    if len(mask.shape) == 3 : # BW channels. Need only one\n",
    "        mask = np.array([[j[1] for j in i] for i in mask])\n",
    "    mask = np.abs(255-mask) # black -> white, white/transparent -> black\n",
    "    \n",
    "    cmap = generate_colormap_from_hex_list(palette_list)\n",
    "\n",
    "    # Create wordcloud\n",
    "    wc = WordCloud(mask=mask, colormap=cmap, background_color=None, mode='RGBA', stopwords=STOPWORDS, collocations=False)\n",
    "    if tf_idf: # Compute TF-IDF word importance values\n",
    "        term_importances = tf_idf(filtered_data, 'notes')\n",
    "        wc.generate_from_frequencies(term_importances)\n",
    "    else: # generate from simple term frequencies\n",
    "        text = filtered_data['notes'].sum()\n",
    "        wc.generate(text)\n",
    "\n",
    "\n",
    "    plt.figure(figsize=(10, 10))\n",
    "    plt.imshow(wc, interpolation='bilinear')\n",
    "    plt.axis(\"off\")\n",
    "    \n",
    "    plt.savefig(output_file, dpi=600, bbox_inches='tight', pad_inches=1.0, transparent=True)\n",
    "    plt.close()\n"
   ]
  },
  {
   "cell_type": "code",
   "execution_count": 129,
   "metadata": {},
   "outputs": [],
   "source": [
    "# Execution (2024, all days)\n",
    "plot_wordcloud_from_daily_notes(data_current_year.copy(), palette_list, 'wordcloud_all_days.svg')"
   ]
  },
  {
   "cell_type": "code",
   "execution_count": 110,
   "metadata": {},
   "outputs": [],
   "source": [
    "# Execution (2024, bad days: rating 1,2)\n",
    "plot_wordcloud_from_daily_notes(data_current_year.copy(), palette_list, 'wordcloud_bad_days.svg', (0,3), './face-sad-cry-solid.png')"
   ]
  },
  {
   "cell_type": "code",
   "execution_count": 99,
   "metadata": {},
   "outputs": [
    {
     "name": "stderr",
     "output_type": "stream",
     "text": [
      "/var/folders/pp/q0kl1bl507q_7gsf1tczbrg80000gn/T/ipykernel_21881/1730228288.py:7: SettingWithCopyWarning: \n",
      "A value is trying to be set on a copy of a slice from a DataFrame.\n",
      "Try using .loc[row_indexer,col_indexer] = value instead\n",
      "\n",
      "See the caveats in the documentation: https://pandas.pydata.org/pandas-docs/stable/user_guide/indexing.html#returning-a-view-versus-a-copy\n",
      "  document_corpus[label] = document_corpus[label].apply(lambda x : str(x))\n",
      "/var/folders/pp/q0kl1bl507q_7gsf1tczbrg80000gn/T/ipykernel_21881/3764858502.py:4: SettingWithCopyWarning: \n",
      "A value is trying to be set on a copy of a slice from a DataFrame.\n",
      "Try using .loc[row_indexer,col_indexer] = value instead\n",
      "\n",
      "See the caveats in the documentation: https://pandas.pydata.org/pandas-docs/stable/user_guide/indexing.html#returning-a-view-versus-a-copy\n",
      "  document_corpus[label] = document_corpus[label].apply(lambda x : [y.strip(string.punctuation) for y in x.strip().split()])\n"
     ]
    }
   ],
   "source": [
    "# Execution (2024, good days: rating 4,5)\n",
    "plot_wordcloud_from_daily_notes(data_current_year.copy(), palette_list, 'wordcloud_good_days.svg', (4,6))"
   ]
  }
 ],
 "metadata": {
  "kernelspec": {
   "display_name": "pixels",
   "language": "python",
   "name": "python3"
  },
  "language_info": {
   "codemirror_mode": {
    "name": "ipython",
    "version": 3
   },
   "file_extension": ".py",
   "mimetype": "text/x-python",
   "name": "python",
   "nbconvert_exporter": "python",
   "pygments_lexer": "ipython3",
   "version": "3.9.20"
  }
 },
 "nbformat": 4,
 "nbformat_minor": 2
}
