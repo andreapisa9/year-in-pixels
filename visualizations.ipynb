{
 "cells": [
  {
   "cell_type": "markdown",
   "metadata": {},
   "source": [
    "# Year in Pixels Visualizations"
   ]
  },
  {
   "cell_type": "code",
   "execution_count": 193,
   "metadata": {},
   "outputs": [],
   "source": [
    "# imports\n",
    "import string\n",
    "import json\n",
    "import time\n",
    "import datetime\n",
    "from copy import deepcopy\n",
    "import numpy as np\n",
    "import pandas as pd\n",
    "import matplotlib.pyplot as plt\n",
    "from matplotlib.colors import LinearSegmentedColormap, to_rgba, Normalize\n",
    "from matplotlib.font_manager import FontProperties\n",
    "from wordcloud import WordCloud, STOPWORDS\n",
    "from PIL import Image\n",
    "import seaborn as sns\n",
    "import plotly.express as px\n",
    "import plotly.io as pio\n",
    "from geopy.geocoders import Nominatim"
   ]
  },
  {
   "cell_type": "code",
   "execution_count": 2,
   "metadata": {},
   "outputs": [],
   "source": [
    "# load externally defined environment variables\n",
    "from dotenv import dotenv_values\n",
    "env_vars = dotenv_values()"
   ]
  },
  {
   "cell_type": "code",
   "execution_count": 3,
   "metadata": {},
   "outputs": [
    {
     "data": {
      "text/plain": [
       "['ff2700', '88220d', '151518', '213788', '00bfff']"
      ]
     },
     "execution_count": 3,
     "metadata": {},
     "output_type": "execute_result"
    }
   ],
   "source": [
    "# load color palette from environment variables\n",
    "palette_list = [env_vars[\"COLOR_PALETTE_{}\".format(i)] for i in range(1,6)]\n",
    "palette_list"
   ]
  },
  {
   "cell_type": "code",
   "execution_count": 4,
   "metadata": {},
   "outputs": [],
   "source": [
    "import matplotlib\n",
    "matplotlib.use(f\"module://mplcairo.{env_vars['CAIRO_VERSION']}\") # Change to '.tk' if you have Linux or Windows"
   ]
  },
  {
   "cell_type": "code",
   "execution_count": 5,
   "metadata": {},
   "outputs": [],
   "source": [
    "# data extraction into Pandas DataFrame\n",
    "year = env_vars['YEAR']\n",
    "\n",
    "with open('./data/data_{}.json'.format(year)) as fp:\n",
    "    data = json.load(fp)\n",
    "data = pd.DataFrame(data)\n",
    "data = data.drop(columns=['type'])"
   ]
  },
  {
   "cell_type": "code",
   "execution_count": 6,
   "metadata": {},
   "outputs": [],
   "source": [
    "# data cleaning\n",
    "data['scores'] = data['scores'].apply(lambda x : int(x[0])) # convert scores from lists to integers\n",
    "data['date'] = data['date'] = pd.to_datetime(data['date']) # convert dates from strings to datetime objects\n",
    "\n",
    "# make a column for each tag\n",
    "tags = {}\n",
    "for index, row in data.iterrows():\n",
    "    row_data = {}\n",
    "    tags_list = row['tags']\n",
    "    for tag in tags_list:\n",
    "        if tag['type'] not in row_data:\n",
    "            row_data = {**row_data, tag['type'] : tag['entries']}\n",
    "        else:\n",
    "            row_data[tag['type']].extend(tag['entries'])\n",
    "    tags = {**tags, index : row_data}\n",
    "\n",
    "tags = pd.DataFrame(tags).T\n",
    "\n",
    "data = pd.concat([data, tags], axis=1).drop(columns=['tags'])\n",
    "\n",
    "data['Productivity Rating'] = data['Productivity Rating'].apply(lambda x : int(x[0]) if isinstance(x, list) else 0) # convert productivity ratings from list to int\n",
    "\n",
    "# Filter for this year's and last year's data\n",
    "def check_year(year_to_check : datetime.date, reference : int):\n",
    "    return True if year_to_check.year == reference else False\n",
    "\n",
    "data_all = data\n",
    "\n",
    "mask_previous_year = data_all['date'].apply(lambda x : check_year(x, int(year)-1))\n",
    "data_previous_year = data_all[mask_previous_year]\n",
    "\n",
    "mask_current_year = data_all['date'].apply(lambda x : check_year(x, int(year)))\n",
    "data_current_year = data_all[mask_current_year]"
   ]
  },
  {
   "cell_type": "code",
   "execution_count": 7,
   "metadata": {},
   "outputs": [],
   "source": [
    "# Font setting (change at will)\n",
    "font = env_vars['FONT']"
   ]
  },
  {
   "cell_type": "markdown",
   "metadata": {},
   "source": [
    "# Pixels (Github-like viz)"
   ]
  },
  {
   "cell_type": "code",
   "execution_count": 8,
   "metadata": {},
   "outputs": [],
   "source": [
    "def generate_colormap_from_hex_list(palette_list : list[str]) -> LinearSegmentedColormap:\n",
    "    \"\"\"\"\"\"\n",
    "    \n",
    "    rgba_palette = [to_rgba('#'+color) for color in palette_list]\n",
    "    cmap = LinearSegmentedColormap.from_list(\"custom_palette\", rgba_palette, N=1024)\n",
    "\n",
    "    return cmap"
   ]
  },
  {
   "cell_type": "code",
   "execution_count": 9,
   "metadata": {},
   "outputs": [],
   "source": [
    "from matplotlib.patches import FancyBboxPatch\n",
    "\n",
    "# Pixels viz function (each row is one week, squares are a little spaced out and rounded, month labels are visible)\n",
    "def generate_pixels_heatmap(df : pd.DataFrame, palette : list[str], output_file : str, emoji : bool = False):\n",
    "    \"\"\"\n",
    "    Generates a GitHub-style heatmap chart.\n",
    "\n",
    "    Parameters:\n",
    "        df (pd.DataFrame): DataFrame with 'date' (datetime) and 'scores' columns.\n",
    "        palette (list): List of hexadecimal color strings defining the color palette.\n",
    "        output_file (str): Path to save the resulting SVG image.\n",
    "\n",
    "    Returns:\n",
    "        None\n",
    "    \"\"\"\n",
    "\n",
    "    assert 'emoji' in df.columns or not emoji, \"Emoji condition not specified.\"\n",
    "\n",
    "    # Ensure 'date' column is datetime\n",
    "    df['date'] = pd.to_datetime(df['date'])\n",
    "\n",
    "    # Create a full year of dates for the current year\n",
    "    year = df['date'].dt.year.min()\n",
    "    start_date = pd.Timestamp(f'{year}-01-01')\n",
    "    end_date = pd.Timestamp(f'{year}-12-31')\n",
    "    all_dates = pd.date_range(start=start_date, end=end_date, freq='D')\n",
    "\n",
    "    # Create a DataFrame for all days of the year\n",
    "    all_days = pd.DataFrame({'date': all_dates})\n",
    "\n",
    "    # Merge with the input DataFrame to align data\n",
    "    df = all_days.merge(df, on='date', how='left').fillna({'rating': 0})\n",
    "    data = df.copy()\n",
    "\n",
    "    # Add week and day of the week for plotting\n",
    "    df['week'] = df['date'].dt.isocalendar().week\n",
    "    df['day_of_week'] = df['date'].dt.weekday\n",
    "\n",
    "    # Handle the edge case where week 53 exists in the data\n",
    "    if df['week'].max() == 53:\n",
    "        df.loc[df['week'] == 53, 'week'] = 52\n",
    "\n",
    "    # Ensure unique entries for pivot table by averaging ratings for duplicate days\n",
    "    df = df.groupby(['week', 'day_of_week'], as_index=False)['scores'].mean()\n",
    "\n",
    "    # Create a pivot table for heatmap data\n",
    "    heatmap_data = df.pivot(index='day_of_week', columns='week', values='scores')\n",
    "\n",
    "    # Create a custom colormap\n",
    "    cmap = generate_colormap_from_hex_list(palette)\n",
    "\n",
    "    # Plot the heatmap with rounded corners and spacing\n",
    "    fig, ax = plt.subplots(figsize=(20, 10))\n",
    "    ax.set_aspect('equal')\n",
    "    \n",
    "    # Define the size of each square and the spacing\n",
    "    square_size = 1.0\n",
    "    spacing = 0.2\n",
    "    prop = FontProperties(fname='/System/Library/Fonts/Apple Color Emoji.ttc', size=10) # TODO : make portable to other OSs.\n",
    "\n",
    "    # Draw each cell manually with rounded corners\n",
    "    for y, (day, row) in enumerate(heatmap_data.iterrows()):\n",
    "        for x, value in enumerate(row):\n",
    "            if not np.isnan(value):\n",
    "                color = cmap((value - 1.0) / 4.0)\n",
    "                rect = FancyBboxPatch(\n",
    "                    (x * (square_size + spacing), y * (square_size + spacing)),\n",
    "                    square_size, square_size,\n",
    "                    boxstyle=f\"round,pad=0,rounding_size=0.2\",\n",
    "                    linewidth=0,\n",
    "                    edgecolor=None,\n",
    "                    facecolor=color\n",
    "                )\n",
    "                ax.add_patch(rect)\n",
    "                that_day = data.iloc[y + x * 7, :]\n",
    "                if emoji and that_day.emoji != '':\n",
    "                    text = ax.annotate(that_day.emoji,\n",
    "                                (x * (square_size + spacing) + 0.120, y * (square_size + spacing) + 0.9))\n",
    "                    text.set(fontproperties=prop)\n",
    "\n",
    "    # Add month labels at the top of the heatmap\n",
    "    months = {'Jan' : 0,\n",
    "              'Feb' : 4,\n",
    "              'Mar' : 8,\n",
    "              'Apr' : 13,\n",
    "              'May' : 17,\n",
    "              'Jun' : 21,\n",
    "              'Jul' : 25,\n",
    "              'Aug' : 30,\n",
    "              'Sep' : 34,\n",
    "              'Oct' : 38,\n",
    "              'Nov' : 43,\n",
    "              'Dec' : 47}\n",
    "    for i, month in enumerate(months):\n",
    "        ax.text(\n",
    "            months[month] * (square_size + spacing),\n",
    "            heatmap_data.shape[0] * (square_size + spacing) + 0.5,\n",
    "            month,\n",
    "            ha='left', va='bottom', color='white', fontsize=10, fontweight='bold', fontname=font\n",
    "        )\n",
    "\n",
    "    # Add weekday labels on the y-axis\n",
    "    weekdays = ['Mon', 'Tue', 'Wed', 'Thu', 'Fri', 'Sat', 'Sun']\n",
    "    first_weekday = start_date.day_of_week\n",
    "    for i, weekday in enumerate(weekdays):\n",
    "        y_pos = ((first_weekday + i) % 7) * (square_size + spacing)\n",
    "        if ((first_weekday + i) % 7) % 2 == 1 : continue\n",
    "        ax.text(\n",
    "            -0.5,\n",
    "            y_pos,\n",
    "            weekday,\n",
    "            ha='right', va='top', color='white', fontsize=10, fontweight='bold', fontname=font\n",
    "        )\n",
    "\n",
    "    # Adjust the limits and remove axes\n",
    "    ax.set_xlim(0, heatmap_data.shape[1] * (square_size + spacing))\n",
    "    ax.set_ylim(0, heatmap_data.shape[0] * (square_size + spacing))\n",
    "    ax.invert_yaxis()\n",
    "    ax.axis('off')\n",
    "\n",
    "    # TODO: add possibility to rotate 90° clockwise\n",
    "\n",
    "    # Save the heatmap to a SVG file with a transparent background\n",
    "    plt.savefig(output_file, dpi=600, bbox_inches='tight', pad_inches=0, transparent=True)\n",
    "    plt.close()"
   ]
  },
  {
   "cell_type": "code",
   "execution_count": 10,
   "metadata": {},
   "outputs": [],
   "source": [
    "# Execution (2024)\n",
    "generate_pixels_heatmap(data_current_year.copy(), palette_list, 'pixels_grid.svg')"
   ]
  },
  {
   "cell_type": "markdown",
   "metadata": {},
   "source": [
    "# Average Rating YoY"
   ]
  },
  {
   "cell_type": "code",
   "execution_count": 11,
   "metadata": {},
   "outputs": [],
   "source": [
    "# Avg rating viz function, YoY increments if existing\n",
    "def plot_average_rating(data : pd.DataFrame, palette_list : list[str], output_file : str):\n",
    "    \"\"\"\n",
    "    Plot a colorbar representing the ratings range and draw the average rating on it.\n",
    "\n",
    "    Parameters:\n",
    "        data (pd.DataFrame): DataFrame with 'scores' column.\n",
    "        palette_list (list): List of hexadecimal color strings defining the color palette.\n",
    "        output_file (str): Path to save the resulting SVG image.\n",
    "\n",
    "    Returns:\n",
    "        None.\n",
    "    \"\"\"\n",
    "    # Define the ratings range\n",
    "    ratings_range = (0, 5)\n",
    "\n",
    "    # Calculate the average rating\n",
    "    average_rating = data['scores'].mean()\n",
    "\n",
    "    # Create a LinearSegmentedColormap from the palette\n",
    "    cmap = generate_colormap_from_hex_list(palette_list)\n",
    "\n",
    "    # Create a figure and axis\n",
    "    fig, ax = plt.subplots(figsize=(10, 1))\n",
    "\n",
    "    range_x_axis = np.linspace(ratings_range[0], ratings_range[1], len(palette_list)*1024)\n",
    "\n",
    "    # Draw the colorbar\n",
    "    norm = Normalize(vmin=ratings_range[0], vmax=ratings_range[1])\n",
    "    thinness = 20\n",
    "    aspect = 1/thinness\n",
    "    cb = ax.imshow(range_x_axis.reshape((1,len(palette_list)*1024)), cmap=cmap, aspect=aspect, norm=norm, extent=[ratings_range[0], ratings_range[1],0, thinness])\n",
    "    ax.set_yticks([])\n",
    "    ax.set_xticks([])\n",
    "\n",
    "    # TODO: Draw the rating milestones\n",
    "    # milestones = range_x_axis\n",
    "    # for milestone in milestones:\n",
    "    #     ax.scatter(milestone * 256 / ratings_range[1], 0.5, color=cmap(norm(milestone)), s=800, edgecolors='black', zorder=20)\n",
    "\n",
    "    # Draw the average rating indicator\n",
    "    ax.axvline(average_rating, color='white', linewidth=5, zorder=10)\n",
    "    ax.text(ratings_range[0] - 0.1, 0.5, f'{average_rating:.2f}', color='white', ha='right', va='bottom', fontsize=48, fontweight='bold', fontname=font)\n",
    "    fig.set_facecolor('black')\n",
    "\n",
    "    plt.savefig(output_file, dpi=600, bbox_inches='tight', pad_inches=0, transparent=True)\n",
    "    plt.close()"
   ]
  },
  {
   "cell_type": "code",
   "execution_count": 12,
   "metadata": {},
   "outputs": [],
   "source": [
    "# Show the plot\n",
    "plot_average_rating(data_current_year.copy(), palette_list, 'avg_rating_curr_year.svg')"
   ]
  },
  {
   "cell_type": "code",
   "execution_count": 13,
   "metadata": {},
   "outputs": [],
   "source": [
    "# Line chart of avg rating per year\n",
    "def plot_ratings_per_year(data_all : pd.DataFrame, label : str, palette_list : list[str], output_file : str, what : str = 'mean'):\n",
    "    \"\"\"\n",
    "    Plot a line chart with value averages per year.\n",
    "\n",
    "    Parameters:\n",
    "        data_all (pd.DataFrame): DataFrame containing timed ratings.\n",
    "        label (str): The column of ratings to be averaged.\n",
    "        palette_list (list): List of hexadecimal color strings defining the color palette.\n",
    "        output_file (str): Path to save the resulting SVG image.\n",
    "\n",
    "    Returns:\n",
    "        None.\n",
    "    \"\"\"\n",
    "\n",
    "    if label == 'emoji':\n",
    "        data_all['emoji'] = data_all['emoji'].apply(lambda x : 1.0 if x != '' else 0.0)\n",
    "\n",
    "    years = list(range(\n",
    "        data_all.loc[0,['date']].to_numpy()[0].year,\n",
    "        data_all.loc[data_all.shape[0]-1, ['date']].to_numpy()[0].year+1,\n",
    "        1))\n",
    "\n",
    "    avgs = []\n",
    "    for year in years:\n",
    "        filter = data_all['date'].apply(lambda x : check_year(x, year)) #TODO : check_year not needed anymore, substitute with data['date'].dt.year == year\n",
    "        data_filtered = data_all[filter]\n",
    "\n",
    "        if what == 'mean':\n",
    "            avgs.append(data_filtered[label].mean())\n",
    "        elif what == 'sum':\n",
    "           avgs.append(data_filtered[label].sum()) \n",
    "        else:\n",
    "            raise AttributeError(f'{what} is not an implemented aggregation.')\n",
    "\n",
    "    fig, ax = plt.subplots(figsize=(5,4))\n",
    "\n",
    "    for data_point in range(len(avgs)):\n",
    "        ax.annotate(f'{avgs[data_point]:.2f}', (years[data_point]+0.1,avgs[data_point]), color='white', fontname=font, fontsize=15, fontweight='bold')\n",
    "        if data_point > 0 :\n",
    "            yoy_diff = avgs[data_point] - avgs[data_point - 1]\n",
    "            sign = '' if yoy_diff < 0 else '+'\n",
    "            color = '#'+palette_list[0] if yoy_diff < 0 else '#'+palette_list[-1]\n",
    "            lateral_offset = years[data_point - 1] + 0.6\n",
    "            vertical_offset = (avgs[data_point] + avgs[data_point - 1]) / 2.0\n",
    "            ax.annotate(f'{sign}{yoy_diff:.2f}', (lateral_offset, vertical_offset), color=color, fontname=font, fontsize=12, fontweight='bold')\n",
    "        ax.axvline(years[data_point], ymin=0.0, ymax=(avgs[data_point]-min(avgs))/(max(avgs)-min(avgs)) - 0.025, color='white', linestyle='--')\n",
    "\n",
    "    ax.plot(years, avgs, 'o-', color='white', linewidth=3.5, markersize=10) #TODO : use sns.lineplot to obtain smoother curves\n",
    "    ax.set_yticks([])\n",
    "    ax.set_xticks(years, labels=years, fontname=font, fontweight='bold', fontsize=17, color='white')\n",
    "    fig.set_facecolor('black')\n",
    "    ax.set_facecolor('black')\n",
    "\n",
    "    ax.set_frame_on(False)\n",
    "\n",
    "    plt.savefig(output_file, dpi=600, bbox_inches='tight', pad_inches=0, transparent=True)\n",
    "    plt.close()"
   ]
  },
  {
   "cell_type": "code",
   "execution_count": 14,
   "metadata": {},
   "outputs": [],
   "source": [
    "# Execution (2024)\n",
    "plot_ratings_per_year(data_all.copy(), 'scores', palette_list, 'avg_ratings_per_year.svg')"
   ]
  },
  {
   "cell_type": "markdown",
   "metadata": {},
   "source": [
    "# Rating Frequency"
   ]
  },
  {
   "cell_type": "code",
   "execution_count": 15,
   "metadata": {},
   "outputs": [],
   "source": [
    "# Rating frequency pie chart (with YoY increments if existing) viz function\n",
    "def plot_rating_frequency_pie_chart(data_current_year : pd.DataFrame, palette_list : list[str], output_file : str, data_previous_year : pd.DataFrame = None):\n",
    "    \"\"\"\"\"\"\n",
    "\n",
    "    # count rating frequencies\n",
    "    rating_frequencies_current_year = data_current_year.groupby('scores').count()['date'].to_numpy(dtype=np.int32)\n",
    "\n",
    "    # if YoY, compute previous year's measures\n",
    "    if data_previous_year is not None:\n",
    "        rating_frequencies_previous_year = data_previous_year.groupby('scores').count()['date'].to_numpy(dtype=np.int32)\n",
    "        previous_year_pcts = rating_frequencies_previous_year / data_previous_year.shape[0] * 100.0\n",
    "\n",
    "    # plot pie chart\n",
    "    fig, ax = plt.subplots(figsize=(5,5))\n",
    "\n",
    "    # adjust palette\n",
    "    palette_list = ['#'+color for color in palette_list]\n",
    "\n",
    "    # use emojis as labels\n",
    "    prop = FontProperties(fname='/System/Library/Fonts/Apple Color Emoji.ttc', size=23) #TODO : make portable to other OSs.\n",
    "\n",
    "    # set properties of percentage text labels\n",
    "    textprops = {\n",
    "        'fontsize' : 10,\n",
    "        'fontname' : font,\n",
    "        'color' : 'white'\n",
    "    }\n",
    "\n",
    "    # draw pie chart\n",
    "    _, texts, autotexts = ax.pie(x=rating_frequencies_current_year,\n",
    "           labeldistance=0.90,\n",
    "           labels=['😭', '😢', '😐', '🙂', '😁'],\n",
    "           colors=palette_list,\n",
    "           autopct=f\"%.2f%%\",\n",
    "           textprops=textprops)\n",
    "    \n",
    "    for text in texts:\n",
    "        text.set_fontproperties(prop)\n",
    "\n",
    "    for t in range(len(autotexts)):\n",
    "        if data_previous_year is None:\n",
    "            autotexts[t].set_text(autotexts[t].get_text() + f\" ({rating_frequencies_current_year[t]})\")\n",
    "        else:\n",
    "            pct_difference = float(autotexts[t].get_text()[:-1]) - (previous_year_pcts[t])\n",
    "            sign = '+' if pct_difference > 0 else ''\n",
    "            autotexts[t].set_text(autotexts[t].get_text() + f\" ({sign}{pct_difference:.2f})\")\n",
    "\n",
    "    fig.set_facecolor('black')\n",
    "    ax.set_facecolor('black')\n",
    "\n",
    "    ax.set_frame_on(False)\n",
    "\n",
    "    plt.savefig(output_file, dpi=600, bbox_inches='tight', pad_inches=0, transparent=True)\n",
    "    plt.close()"
   ]
  },
  {
   "cell_type": "code",
   "execution_count": 16,
   "metadata": {},
   "outputs": [],
   "source": [
    "# Execution (2024)\n",
    "plot_rating_frequency_pie_chart(data_current_year.copy(), palette_list, 'rating_frequency_pie_chart.svg', data_previous_year)"
   ]
  },
  {
   "cell_type": "markdown",
   "metadata": {},
   "source": [
    "# Avg Rating per Weekday"
   ]
  },
  {
   "cell_type": "code",
   "execution_count": 17,
   "metadata": {},
   "outputs": [],
   "source": [
    "# Function to make rounded bars in bar plots\n",
    "def round_bars(ax):\n",
    "    \"\"\"\"\"\"\n",
    "    new_patches = []\n",
    "    for patch in reversed(ax.patches):\n",
    "        bb = patch.get_bbox()\n",
    "        color = patch.get_facecolor()\n",
    "        \n",
    "        # Create a FancyBboxPatch with rounded corners\n",
    "        p_bbox = FancyBboxPatch(\n",
    "            (bb.xmin, bb.ymin),\n",
    "            abs(bb.width),\n",
    "            abs(bb.height),\n",
    "            boxstyle=\"round,pad=0,rounding_size=0.020\",\n",
    "            ec=\"none\", fc=color,\n",
    "            mutation_aspect=4\n",
    "        )\n",
    "        \n",
    "        # Remove the old patch and add the new one\n",
    "        patch.remove()\n",
    "        new_patches.append(p_bbox)\n",
    "\n",
    "    # Add all new patches to the axes\n",
    "    for patch in new_patches:\n",
    "        ax.add_patch(patch)"
   ]
  },
  {
   "cell_type": "code",
   "execution_count": 18,
   "metadata": {},
   "outputs": [],
   "source": [
    "# (Normalized) Avg rating/productivity level per weekday/tag viz function, with YoY increments if existing\n",
    "def plot_avg_ratings_per_weekday(data_all : pd.DataFrame, label : str, palette_list : list[str], output_file : str):\n",
    "    \"\"\"\n",
    "    Plot a bar chart with value averages per weekday.\n",
    "\n",
    "    Parameters:\n",
    "        data_all (pd.DataFrame): DataFrame containing timed ratings.\n",
    "        label (str): The column of ratings to be averaged.\n",
    "        palette_list (list): List of hexadecimal color strings defining the color palette.\n",
    "        output_file (str): Path to save the resulting SVG image.\n",
    "\n",
    "    Returns:\n",
    "        None.\n",
    "    \"\"\"\n",
    "\n",
    "    assert label in data_all.columns, f\"No column named '{label}'\"\n",
    "    # assert data_all[label].dtype not a string and not a list\n",
    "\n",
    "    curr_year = data_all.loc[data_all.shape[0]-1, 'date'].year\n",
    "\n",
    "    total_avg = 0\n",
    "\n",
    "    yearly_avgs = []\n",
    "    for year in range (curr_year-1, curr_year+1):\n",
    "        mask_year = data_all['date'].apply(lambda x : check_year(x, year))\n",
    "        data_year = data_all[mask_year]\n",
    "        data_year['weekday'] = data_year['date'].apply(lambda x : datetime.date.weekday(x))\n",
    "        yearly_avgs.append(data_year.groupby('weekday', axis=0)[label].mean().to_numpy())\n",
    "        if year == curr_year:\n",
    "            total_avg = float(data_year[label].mean())\n",
    "\n",
    "    fig, ax = plt.subplots(figsize=(9,4))\n",
    "\n",
    "    yoy_diffs = [yearly_avgs[-1][i] - yearly_avgs[0][i] for i in range(7)]\n",
    "    for j in range(7):\n",
    "        yoy_diffs[j] = '+'+f'{yoy_diffs[j]:.2f}' if yoy_diffs[j] > 0 else f'{yoy_diffs[j]:.2f}'\n",
    "        if '0.00' in yoy_diffs[j] : yoy_diffs[j] = '='\n",
    "\n",
    "    container = ax.bar(range(7), yearly_avgs[-1], color='white', width=0.3)\n",
    "    ax.bar_label(container, labels=[f\"{yearly_avgs[-1][i]:.2f}({yoy_diffs[i]})\" for i in range(7)], fontname=font, fontsize=11, color='white', padding=18)\n",
    "    round_bars(ax)\n",
    "    ax.axhline(total_avg, xmin=0.04, color='#'+palette_list[0], linestyle='--')\n",
    "    ax.annotate('AVG', (-0.45, total_avg), fontname=font, fontsize=8, color='#'+palette_list[0], va='center')\n",
    "    ax.set_yticks([])\n",
    "    ax.set_xticks(range(7), labels=['Mon', 'Tue', 'Wed', 'Thu', 'Fri', 'Sat', 'Sun'], fontname=font, fontweight='bold', fontsize=17, color='white')\n",
    "    ax.set_ylim(0, 5)\n",
    "    fig.set_facecolor('black')\n",
    "    ax.set_facecolor('black')\n",
    "\n",
    "    ax.set_frame_on(False)\n",
    "\n",
    "    plt.savefig(output_file, dpi=600, bbox_inches='tight', pad_inches=0, transparent=True)\n",
    "    plt.close()"
   ]
  },
  {
   "cell_type": "code",
   "execution_count": 19,
   "metadata": {},
   "outputs": [
    {
     "name": "stderr",
     "output_type": "stream",
     "text": [
      "/var/folders/pp/q0kl1bl507q_7gsf1tczbrg80000gn/T/ipykernel_41669/1437564756.py:27: SettingWithCopyWarning: \n",
      "A value is trying to be set on a copy of a slice from a DataFrame.\n",
      "Try using .loc[row_indexer,col_indexer] = value instead\n",
      "\n",
      "See the caveats in the documentation: https://pandas.pydata.org/pandas-docs/stable/user_guide/indexing.html#returning-a-view-versus-a-copy\n",
      "  data_year['weekday'] = data_year['date'].apply(lambda x : datetime.date.weekday(x))\n",
      "/var/folders/pp/q0kl1bl507q_7gsf1tczbrg80000gn/T/ipykernel_41669/1437564756.py:28: FutureWarning: The 'axis' keyword in DataFrame.groupby is deprecated and will be removed in a future version.\n",
      "  yearly_avgs.append(data_year.groupby('weekday', axis=0)[label].mean().to_numpy())\n",
      "/var/folders/pp/q0kl1bl507q_7gsf1tczbrg80000gn/T/ipykernel_41669/1437564756.py:27: SettingWithCopyWarning: \n",
      "A value is trying to be set on a copy of a slice from a DataFrame.\n",
      "Try using .loc[row_indexer,col_indexer] = value instead\n",
      "\n",
      "See the caveats in the documentation: https://pandas.pydata.org/pandas-docs/stable/user_guide/indexing.html#returning-a-view-versus-a-copy\n",
      "  data_year['weekday'] = data_year['date'].apply(lambda x : datetime.date.weekday(x))\n",
      "/var/folders/pp/q0kl1bl507q_7gsf1tczbrg80000gn/T/ipykernel_41669/1437564756.py:28: FutureWarning: The 'axis' keyword in DataFrame.groupby is deprecated and will be removed in a future version.\n",
      "  yearly_avgs.append(data_year.groupby('weekday', axis=0)[label].mean().to_numpy())\n"
     ]
    }
   ],
   "source": [
    "# Execution (2024, rating)\n",
    "plot_avg_ratings_per_weekday(data_all.copy(), 'scores', palette_list, 'avg_ratings_per_weekday.svg')"
   ]
  },
  {
   "cell_type": "markdown",
   "metadata": {
    "vscode": {
     "languageId": "plaintext"
    }
   },
   "source": [
    "# Emotion Frequency"
   ]
  },
  {
   "cell_type": "code",
   "execution_count": 20,
   "metadata": {},
   "outputs": [],
   "source": [
    "def tag_list(data : pd.DataFrame, tag : str):\n",
    "    # collect all possible tag values\n",
    "    masked_data = data[data[tag].notna()] # masked DataFrame\n",
    "    tag_values = masked_data[tag].apply(lambda x : [x] if not isinstance(x, list) else x).sum() # list with duplicates\n",
    "    tag_values = list(dict.fromkeys(tag_values)) # remove duplicates\n",
    "\n",
    "    return tag_values"
   ]
  },
  {
   "cell_type": "code",
   "execution_count": 21,
   "metadata": {},
   "outputs": [],
   "source": [
    "# Tag frequency viz function (descending sort by frequency)\n",
    "def plot_tag_frequency(data_current_year : pd.DataFrame, tag_category : str, palette_list : list[str], output_file : str):\n",
    "    \"\"\"\n",
    "    Plot a horizontal bar chart with tags for a certain category, ordered by frequency.\n",
    "\n",
    "    Parameters:\n",
    "        data_current_year (pd.DataFrame): DataFrame containing one list of 'tag_category' tags per day.\n",
    "        tag_category (str): The category of tags to count.\n",
    "        palette_list (list): List of hexadecimal color strings defining the color palette.\n",
    "        output_file (str): Path to save the resulting SVG image.\n",
    "\n",
    "    Returns:\n",
    "        None.\n",
    "    \"\"\"\n",
    "\n",
    "    assert tag_category in data_current_year.columns, f\"No tag category called {tag_category}\"\n",
    "\n",
    "    # collect all possible tag values\n",
    "    tag_values = tag_list(data_current_year, tag_category)\n",
    "\n",
    "    # count tag appearances\n",
    "    tag_counters = {tag : 0 for tag in tag_values}\n",
    "    for index, row in data_current_year[data_current_year[tag_category].notna()].iterrows(): # iterate over masked DataFrame to avoid null values\n",
    "        tags_of_the_day = list(row[tag_category])\n",
    "        for tag in tags_of_the_day:\n",
    "            tag_counters[tag] += 1\n",
    "\n",
    "    # sort for number of appearances (descending)\n",
    "    tag_counters = pd.DataFrame(tag_counters.values(), index=tag_counters.keys(), columns=['count'])\n",
    "    tag_counters.sort_values(by='count', ascending=True, inplace=True) # plotting function will flip the order anyways\n",
    "\n",
    "    # draw horizontal bar chart\n",
    "    fig, ax = plt.subplots(figsize=(9,4)) \n",
    "\n",
    "    data = tag_counters['count'].to_numpy(dtype=np.int32)\n",
    "\n",
    "    container = ax.barh(y=range(0,len(tag_counters.index)), data=data, width=data, height=0.5, color='white')\n",
    "    # round_bars(ax)\n",
    "    ax.bar_label(container, data, color='white', fontname=font, fontsize=9, padding=6)\n",
    "\n",
    "    ax.set_yticks(range(0,len(tag_counters.index)), labels=tag_counters.index, color='white', fontname=font, fontsize=11)\n",
    "    ax.set_xticks([])\n",
    "    fig.set_facecolor('black')\n",
    "    ax.set_facecolor('black')\n",
    "\n",
    "    ax.set_frame_on(False)\n",
    "\n",
    "    plt.savefig(output_file, dpi=600, bbox_inches='tight', pad_inches=0, transparent=True)\n",
    "    plt.close()    "
   ]
  },
  {
   "cell_type": "code",
   "execution_count": 22,
   "metadata": {},
   "outputs": [],
   "source": [
    "# Execution (2024, emotions)\n",
    "plot_tag_frequency(data_current_year.copy(), 'Emotions', palette_list, 'emotion_frequency.svg')"
   ]
  },
  {
   "cell_type": "markdown",
   "metadata": {},
   "source": [
    "# Activity Frequency"
   ]
  },
  {
   "cell_type": "code",
   "execution_count": 23,
   "metadata": {},
   "outputs": [],
   "source": [
    "# Execution (2024, activities)\n",
    "plot_tag_frequency(data_current_year.copy(), 'Activities', palette_list, 'activity_frequency.svg')"
   ]
  },
  {
   "cell_type": "markdown",
   "metadata": {
    "vscode": {
     "languageId": "plaintext"
    }
   },
   "source": [
    "# Activity-Emotion Correlation"
   ]
  },
  {
   "cell_type": "code",
   "execution_count": 24,
   "metadata": {},
   "outputs": [],
   "source": [
    "# Pairwise tag-tag correlation (Pearson) heatmap function\n",
    "def plot_tag_to_tag_correlation_heatmap(data_current_year : pd.DataFrame, tag_1 : str, tag_2 : str, palette_list : list[str], output_file : str):\n",
    "    \"\"\"\"\"\"\n",
    "\n",
    "    # compute tag-2-tag correlation\n",
    "    # collect possible tag values\n",
    "    tag_keys = tag_list(data_current_year, tag_1)\n",
    "    tag_columns = tag_list(data_current_year, tag_2) if tag_2 is not None else tag_keys\n",
    "\n",
    "    tag_keys = sorted(tag_keys) # ordered alphabetically (for now)\n",
    "    tag_columns = sorted(tag_columns)\n",
    "\n",
    "    df_columns = tag_keys + tag_columns\n",
    "\n",
    "    one_hot_encoded_rows = []\n",
    "    for index, row in data_current_year.iterrows():\n",
    "        tag_1_values = list(row[tag_1]) if not isinstance(row[tag_1], float) else []\n",
    "        if tag_2 is not None : tag_2_values = list(row[tag_2]) if not isinstance(row[tag_2], float) else []\n",
    "\n",
    "        tag_1_one_hot_encoding = [1 if x in tag_1_values else 0 for x in tag_keys]\n",
    "        if tag_2 is not None : tag_2_one_hot_encoding = [1 if y in tag_2_values else 0 for y in tag_columns]\n",
    "\n",
    "        if tag_2 is not None : one_hot_encoded_rows.append(tag_1_one_hot_encoding + tag_2_one_hot_encoding)\n",
    "        else : one_hot_encoded_rows.append([tag_1_one_hot_encoding])\n",
    "\n",
    "    one_hot_encoded_rows = pd.DataFrame(one_hot_encoded_rows, index=data_current_year.index, columns=df_columns)\n",
    "\n",
    "    tag_table = pd.concat([data_current_year['date'], one_hot_encoded_rows], axis=1)\n",
    "\n",
    "    # TODO : order rows by number of appearances\n",
    "    correlations = tag_table.corr(method='pearson')\n",
    "\n",
    "    self_correlations = correlations.loc[tag_keys, tag_keys] # could need for some heatmap in the future?\n",
    "    ethero_correlations = correlations.loc[tag_keys, tag_columns]\n",
    "\n",
    "    correlations_to_plot = ethero_correlations if tag_2 is not None else self_correlations\n",
    "\n",
    "    # Create a LinearSegmentedColormap from the palette\n",
    "    cmap = generate_colormap_from_hex_list(palette_list)\n",
    "\n",
    "    fig, ax = plt.subplots(figsize=(10,10))\n",
    "    \n",
    "    # draw 2d heatmap\n",
    "    ax = sns.heatmap(correlations_to_plot, center=0.0, cmap=cmap, square=True, cbar=False)\n",
    "\n",
    "    # TODO: (all notebook) make ticks invisible, but not labels\n",
    "    cbar = ax.figure.colorbar(ax.collections[0], shrink=0.63)\n",
    "    cbar.set_ticks(cbar.get_ticks()[1:-1], labels=cbar.get_ticks()[1:-1], fontname=font, color='white')\n",
    "    ax.set_yticks(range(0,len(tag_keys)), labels=['\\n'+key for key in tag_keys], fontname=font, color='white', va='top')\n",
    "    ax.set_xticks(range(0,len(tag_columns)), labels=['\\n'+col for col in tag_columns], fontname=font, color='white', ha='left')\n",
    "    ax.set_facecolor('black')\n",
    "    fig.set_facecolor('black')\n",
    "\n",
    "    plt.savefig(output_file, dpi=600, bbox_inches='tight', pad_inches=0, transparent=True)\n",
    "    plt.close()"
   ]
  },
  {
   "cell_type": "code",
   "execution_count": 25,
   "metadata": {},
   "outputs": [],
   "source": [
    "# Execution (2024, activity v. emotion)\n",
    "plot_tag_to_tag_correlation_heatmap(data_current_year.copy(), 'Activities', 'Emotions', palette_list, 'activity_emotion_correlation.svg')"
   ]
  },
  {
   "cell_type": "markdown",
   "metadata": {},
   "source": [
    "# Location-Emotion Correlation"
   ]
  },
  {
   "cell_type": "code",
   "execution_count": 26,
   "metadata": {},
   "outputs": [],
   "source": [
    "# Execution (2024, location v. emotion)\n",
    "plot_tag_to_tag_correlation_heatmap(data_current_year.copy(), 'Location', 'Emotions', palette_list, 'location_emotion_correlation.svg')"
   ]
  },
  {
   "cell_type": "markdown",
   "metadata": {},
   "source": [
    "# Sick Days 🤒"
   ]
  },
  {
   "cell_type": "code",
   "execution_count": 27,
   "metadata": {},
   "outputs": [],
   "source": [
    "def sick_day(row : pd.DataFrame) -> str:\n",
    "    assert set(['scores', 'Symptoms', 'Medication']).issubset(set(row.index)), \"Wrong columns.\"\n",
    "    if isinstance(row['Symptoms'], float) or isinstance(row['Medication'], float) : return ''\n",
    "    if len(row['Symptoms'] + row['Medication']) > 4.0:\n",
    "        if row['scores'] < 2.0 : return '💀'\n",
    "        else : return '🤒'\n",
    "    return ''"
   ]
  },
  {
   "cell_type": "code",
   "execution_count": 28,
   "metadata": {},
   "outputs": [
    {
     "name": "stderr",
     "output_type": "stream",
     "text": [
      "/var/folders/pp/q0kl1bl507q_7gsf1tczbrg80000gn/T/ipykernel_41669/2111666320.py:20: SettingWithCopyWarning: \n",
      "A value is trying to be set on a copy of a slice from a DataFrame.\n",
      "Try using .loc[row_indexer,col_indexer] = value instead\n",
      "\n",
      "See the caveats in the documentation: https://pandas.pydata.org/pandas-docs/stable/user_guide/indexing.html#returning-a-view-versus-a-copy\n",
      "  df['date'] = pd.to_datetime(df['date'])\n"
     ]
    }
   ],
   "source": [
    "# Number of symptoms + number of pharmaceuticals calendar viz function, ratings in semi-transparency, skull 💀 emoji if bad day + sick day\n",
    "data_sick_days = data_all.copy()\n",
    "# data_sick_days\n",
    "data_sick_days['emoji'] = data_sick_days.apply(sick_day, axis=1)\n",
    "data_sick_days_current_year = data_sick_days[data_sick_days['date'].dt.year == 2024]\n",
    "\n",
    "generate_pixels_heatmap(data_sick_days_current_year, palette_list, 'sick_days_heatmap.svg', True)"
   ]
  },
  {
   "cell_type": "code",
   "execution_count": 29,
   "metadata": {},
   "outputs": [],
   "source": [
    "# Total number of sick (💀) days per year line chart\n",
    "plot_ratings_per_year(data_sick_days, 'emoji', palette_list, 'sick_days_per_year.svg', what='sum')"
   ]
  },
  {
   "cell_type": "markdown",
   "metadata": {},
   "source": [
    "# Productivity"
   ]
  },
  {
   "cell_type": "code",
   "execution_count": 30,
   "metadata": {},
   "outputs": [],
   "source": [
    "# Productivity calendar viz function, ratings in semi-transparency\n",
    "def productive_day(row : pd.DataFrame) -> str :\n",
    "    assert set(['Productivity Rating']).issubset(set(row.index)), \"Wrong columns.\"\n",
    "    if row['Productivity Rating'] >= 4.0 : return '💪'\n",
    "    elif row['Productivity Rating'] == 0.0 : return '😴'\n",
    "    else : return ''"
   ]
  },
  {
   "cell_type": "code",
   "execution_count": 31,
   "metadata": {},
   "outputs": [],
   "source": [
    "# Average productivity per year line chart\n",
    "plot_ratings_per_year(data_all.copy(), 'Productivity Rating', palette_list, 'avg_productivity_per_year.svg')"
   ]
  },
  {
   "cell_type": "code",
   "execution_count": 32,
   "metadata": {},
   "outputs": [
    {
     "name": "stderr",
     "output_type": "stream",
     "text": [
      "/var/folders/pp/q0kl1bl507q_7gsf1tczbrg80000gn/T/ipykernel_41669/1437564756.py:27: SettingWithCopyWarning: \n",
      "A value is trying to be set on a copy of a slice from a DataFrame.\n",
      "Try using .loc[row_indexer,col_indexer] = value instead\n",
      "\n",
      "See the caveats in the documentation: https://pandas.pydata.org/pandas-docs/stable/user_guide/indexing.html#returning-a-view-versus-a-copy\n",
      "  data_year['weekday'] = data_year['date'].apply(lambda x : datetime.date.weekday(x))\n",
      "/var/folders/pp/q0kl1bl507q_7gsf1tczbrg80000gn/T/ipykernel_41669/1437564756.py:28: FutureWarning: The 'axis' keyword in DataFrame.groupby is deprecated and will be removed in a future version.\n",
      "  yearly_avgs.append(data_year.groupby('weekday', axis=0)[label].mean().to_numpy())\n",
      "/var/folders/pp/q0kl1bl507q_7gsf1tczbrg80000gn/T/ipykernel_41669/1437564756.py:27: SettingWithCopyWarning: \n",
      "A value is trying to be set on a copy of a slice from a DataFrame.\n",
      "Try using .loc[row_indexer,col_indexer] = value instead\n",
      "\n",
      "See the caveats in the documentation: https://pandas.pydata.org/pandas-docs/stable/user_guide/indexing.html#returning-a-view-versus-a-copy\n",
      "  data_year['weekday'] = data_year['date'].apply(lambda x : datetime.date.weekday(x))\n",
      "/var/folders/pp/q0kl1bl507q_7gsf1tczbrg80000gn/T/ipykernel_41669/1437564756.py:28: FutureWarning: The 'axis' keyword in DataFrame.groupby is deprecated and will be removed in a future version.\n",
      "  yearly_avgs.append(data_year.groupby('weekday', axis=0)[label].mean().to_numpy())\n"
     ]
    }
   ],
   "source": [
    "# Avg productivity per weekday execution (2024)\n",
    "plot_avg_ratings_per_weekday(data_all.copy(), 'Productivity Rating', palette_list, 'avg_productivity_per_weekday.svg')"
   ]
  },
  {
   "cell_type": "code",
   "execution_count": 33,
   "metadata": {},
   "outputs": [],
   "source": [
    "# Execution (2024)\n",
    "data_productive_days = data_current_year.copy()\n",
    "\n",
    "data_productive_days['emoji'] = data_productive_days.apply(productive_day, axis=1)\n",
    "\n",
    "generate_pixels_heatmap(data_productive_days, palette_list, 'productive_days_heatmap.svg', emoji=True)"
   ]
  },
  {
   "cell_type": "markdown",
   "metadata": {},
   "source": [
    "# Weighted Avg Rating per Tag"
   ]
  },
  {
   "cell_type": "code",
   "execution_count": 34,
   "metadata": {},
   "outputs": [],
   "source": [
    "def _in(contained, container) -> bool:\n",
    "    if isinstance(container, list) : return contained in container\n",
    "    else : return contained == container"
   ]
  },
  {
   "cell_type": "code",
   "execution_count": 35,
   "metadata": {},
   "outputs": [],
   "source": [
    "# TODO: YoY?\n",
    "# (Normalized) avg rating per tag viz function\n",
    "def plot_avg_rating_per_tag(data_current_year : pd.DataFrame, label : str, palette_list : list[str], output_file : str, shrink : float = 0.0):\n",
    "    \"\"\"\"\"\"\n",
    "\n",
    "    assert label in data_current_year.columns, f\"No column named '{label}'\"\n",
    "    # assert data_all[label].dtype not a string and not a list\n",
    "\n",
    "    curr_year = data_current_year.loc[data_all.shape[0]-1, 'date'].year\n",
    "    tag_values = tag_list(data_current_year, label)\n",
    "\n",
    "    tag_values = sorted(tag_values)\n",
    "\n",
    "    total_avg = 0\n",
    "\n",
    "    yearly_avgs = []\n",
    "    for tag in tag_values:\n",
    "        data_current_year[str(tag)] = data_current_year[label].apply(lambda x : 1 if _in(tag, x) else 0)\n",
    "        data_to_avg = data_current_year[data_current_year[str(tag)] == 1]\n",
    "        yearly_avgs.append(data_to_avg['scores'].sum() / (data_to_avg.shape[0] + shrink)) # shrunk mean (penalize values with few appearances)\n",
    "    \n",
    "    total_avg = float(data_current_year['scores'].mean())\n",
    "\n",
    "    fig, ax = plt.subplots(figsize=(9,4))\n",
    "\n",
    "    # TODO: maybe for the future?\n",
    "    # yoy_diffs = [yearly_avgs[-1][i] - yearly_avgs[0][i] for i in range(7)]\n",
    "    # for j in range(7):\n",
    "    #     yoy_diffs[j] = '+'+f'{yoy_diffs[j]:.2f}' if yoy_diffs[j] > 0 else f'{yoy_diffs[j]:.2f}'\n",
    "    #     if '0.00' in yoy_diffs[j] : yoy_diffs[j] = '='\n",
    "\n",
    "    # TODO: sort? Alphabetical for now\n",
    "\n",
    "    container = ax.bar(range(len(tag_values)), yearly_avgs, color='white', width=0.3)\n",
    "    ax.bar_label(container, labels=[f\"{yearly_avgs[i]:.2f}\" for i in range(len(tag_values))], fontname=font, fontsize=11, color='white', padding=18) #({yoy_diffs[i]})\n",
    "    round_bars(ax)\n",
    "    ax.axhline(total_avg, xmin=0.04, color='#'+palette_list[0], linestyle='--')\n",
    "    ax.annotate('AVG', (len(tag_values)-0.65, total_avg+0.1), fontname=font, fontsize=8, color='#'+palette_list[0], va='center')\n",
    "    ax.set_yticks([])\n",
    "\n",
    "    rotation = 90 if len(tag_values) > 6 else 0 # I don't want productivity ratings rotated\n",
    "\n",
    "    ax.set_xticks(range(len(tag_values)), labels=tag_values, fontname=font, fontweight='bold', fontsize=17, color='white', rotation=rotation)\n",
    "    ax.set_ylim(0, 5)\n",
    "    fig.set_facecolor('black')\n",
    "    ax.set_facecolor('black')\n",
    "\n",
    "    ax.set_frame_on(False)\n",
    "\n",
    "    plt.savefig(output_file, dpi=600, bbox_inches='tight', pad_inches=1.0, transparent=True)\n",
    "    plt.close()"
   ]
  },
  {
   "cell_type": "code",
   "execution_count": 36,
   "metadata": {},
   "outputs": [],
   "source": [
    "# (Normalized) Avg rating per productivity level execution (2024)\n",
    "plot_avg_rating_per_tag(data_current_year.copy(), 'Productivity Rating', palette_list, 'avg_rating_per_productivity.svg')"
   ]
  },
  {
   "cell_type": "code",
   "execution_count": 37,
   "metadata": {},
   "outputs": [],
   "source": [
    "# (Normalized) Avg rating per location execution (2024)\n",
    "plot_avg_rating_per_tag(data_current_year.copy(), 'Location', palette_list, 'avg_rating_per_location.svg', shrink=0.666)"
   ]
  },
  {
   "cell_type": "code",
   "execution_count": 38,
   "metadata": {},
   "outputs": [],
   "source": [
    "# (Normalized) Avg rating per emotion execution (2024)\n",
    "plot_avg_rating_per_tag(data_current_year.copy(), 'Emotions', palette_list, 'avg_rating_per_emotion.svg', shrink=0.666)"
   ]
  },
  {
   "cell_type": "code",
   "execution_count": 39,
   "metadata": {},
   "outputs": [],
   "source": [
    "# (Normalized) Avg rating per activity execution (2024)\n",
    "plot_avg_rating_per_tag(data_current_year.copy(), 'Activities', palette_list, 'avg_rating_per_activity.svg', shrink=0.666)"
   ]
  },
  {
   "cell_type": "code",
   "execution_count": 40,
   "metadata": {},
   "outputs": [],
   "source": [
    "# (Normalized) Avg rating per medication execution (2024)\n",
    "plot_avg_rating_per_tag(data_current_year.copy(), 'Medication', palette_list, 'avg_rating_per_medication.svg')"
   ]
  },
  {
   "cell_type": "code",
   "execution_count": 41,
   "metadata": {},
   "outputs": [],
   "source": [
    "# (Normalized) Avg rating per symptom execution (2024)\n",
    "plot_avg_rating_per_tag(data_current_year.copy(), 'Symptoms', palette_list, 'avg_rating_per_symptom.svg', shrink=0.666)"
   ]
  },
  {
   "cell_type": "markdown",
   "metadata": {},
   "source": [
    "# Locations Visited 🛫"
   ]
  },
  {
   "cell_type": "code",
   "execution_count": 169,
   "metadata": {},
   "outputs": [],
   "source": [
    "def get_coordinates(city : str):\n",
    "    \"\"\"\"\"\"\n",
    "\n",
    "    # I went to Arenella (Sicily), not Arenella (Campania)\n",
    "    if 'Arenella' in city:\n",
    "       city = 'Arenella Syracuse'\n",
    "       additional_arguments = dict(postalcode = '96100')\n",
    "    \n",
    "    else : additional_arguments = {}\n",
    "\n",
    "    # Agrate stands for Agrate Brianza\n",
    "    if 'Agrate' in city:\n",
    "       city = 'Agrate Brianza'\n",
    "\n",
    "    # Vibo stands for Vibo Valentia\n",
    "    if 'Vibo' in city:\n",
    "       city = 'Vibo Valentia'\n",
    "\n",
    "\n",
    "    geolocator = Nominatim(user_agent=\"year-in-pixels\")\n",
    "    location = geolocator.geocode({'city' : city, **additional_arguments}, timeout=10)\n",
    "    if location:\n",
    "        return location.latitude, location.longitude\n",
    "    else:\n",
    "        time.sleep(1.1)\n",
    "        return None, None"
   ]
  },
  {
   "cell_type": "code",
   "execution_count": 194,
   "metadata": {},
   "outputs": [],
   "source": [
    "# Map with visit frequency and average rating per location viz function\n",
    "def plot_map(data_current_year : pd.DataFrame, palette_list : list[str], output_file : str, shrink : float = 0.1):\n",
    "    \"\"\"\"\"\"\n",
    "    \n",
    "    # compute average rating per location\n",
    "    tag_values = tag_list(data_current_year, 'Location') \n",
    "\n",
    "    tag_values = sorted(tag_values)\n",
    "\n",
    "    avgs = []\n",
    "    visits = []\n",
    "    for tag in tag_values:\n",
    "        data_current_year[str(tag)] = data_current_year['Location'].apply(lambda x : 1 if _in(tag, x) else 0)\n",
    "        data_to_avg = data_current_year[data_current_year[str(tag)] == 1]\n",
    "        visits.append(data_to_avg[str(tag)].sum())\n",
    "        avgs.append(data_to_avg['scores'].sum() / (data_to_avg.shape[0] + shrink))\n",
    "\n",
    "    location_data = pd.DataFrame({\n",
    "        'Location' : {i : tag_values[i] for i in range(len(tag_values))},\n",
    "        'color' : {i : avgs[i] for i in range(len(avgs))},\n",
    "        'value' : {i : visits[i] for i in range(len(visits))}})\n",
    "    \n",
    "    # formatting to show the correct map details\n",
    "    location_data = location_data.sort_values('value', ascending=False)\n",
    "    location_data['text'] = [f\"{city_name} ({color:.2f})\" for city_name, color in location_data[['Location', 'color']].to_numpy()]\n",
    "\n",
    "    # Apply the function to get coordinates\n",
    "    location_data['latitude'], location_data['longitude'] = zip(*location_data['Location'].apply(get_coordinates))\n",
    "    \n",
    "    color_scale = ['#'+color for color in palette_list]\n",
    "\n",
    "    fig = px.scatter_map(\n",
    "        location_data,\n",
    "        lat='latitude',\n",
    "        lon='longitude',\n",
    "        color='color',\n",
    "        size='value',\n",
    "        zoom=3.2,\n",
    "        center={'lat':44.7, 'lon':13.5},\n",
    "        text='text',\n",
    "        map_style='carto-positron-nolabels',\n",
    "        color_continuous_scale=color_scale,\n",
    "        color_continuous_midpoint=3\n",
    "    )\n",
    "\n",
    "    fig.update_traces(\n",
    "        mode='markers+text',\n",
    "        textposition='top center',\n",
    "        textfont={'size':15, 'color':'black'})\n",
    "    \n",
    "    fig.add_annotation(\n",
    "        x=0,\n",
    "        y=0,\n",
    "        showarrow=False,\n",
    "        text=f\"Total locations visited: {location_data.shape[0]}\",\n",
    "        font={\n",
    "            'size':18,\n",
    "            'color':'black',\n",
    "            'family':font\n",
    "        }\n",
    "    )\n",
    "\n",
    "    fig.update_layout(plot_bgcolor='rgba(0,0,0,0)', paper_bgcolor='rgba(0,0,0,0)')\n",
    "\n",
    "    fig.show()\n",
    "\n",
    "    pio.write_image(fig, output_file, format='png', width=800, height=600)\n",
    "\n"
   ]
  },
  {
   "cell_type": "code",
   "execution_count": 195,
   "metadata": {},
   "outputs": [
    {
     "data": {
      "application/vnd.plotly.v1+json": {
       "config": {
        "plotlyServerURL": "https://plot.ly"
       },
       "data": [
        {
         "hovertemplate": "value=%{marker.size}<br>text=%{text}<br>latitude=%{lat}<br>longitude=%{lon}<br>color=%{marker.color}<extra></extra>",
         "lat": [
          44.8013678,
          41.8933203,
          45.4641943,
          38.6748544,
          41.1257843,
          36.9655145,
          48.2083537,
          51.5074456,
          44.2774759,
          36.8908864,
          46.0634632,
          45.5761735,
          null,
          36.7418376,
          40.9944463,
          37.0646139
         ],
         "legendgroup": "",
         "lon": [
          10.3280833,
          12.4829321,
          9.1896346,
          16.0985276,
          16.8620293,
          15.2127826,
          16.3725042,
          -0.1277653,
          12.3481763,
          15.0706454,
          13.2358377,
          9.3509475,
          null,
          15.1176543,
          17.2224879,
          15.2907196
         ],
         "marker": {
          "color": [
           3.1125226860254083,
           3.036480686695279,
           3.2668329177057354,
           3.076923076923077,
           4.015151515151516,
           3.780487804878049,
           3.8709677419354835,
           3.095238095238095,
           4.090909090909091,
           3.6363636363636362,
           4.090909090909091,
           3.3333333333333335,
           2.5,
           3.3333333333333335,
           4.166666666666667,
           3.3333333333333335
          ],
          "coloraxis": "coloraxis",
          "size": [
           110,
           93,
           80,
           18,
           13,
           8,
           6,
           4,
           2,
           2,
           2,
           1,
           1,
           1,
           1,
           1
          ],
          "sizemode": "area",
          "sizeref": 0.275
         },
         "mode": "markers+text",
         "name": "",
         "showlegend": false,
         "subplot": "map",
         "text": [
          "Parma (3.11)",
          "Rome (3.04)",
          "Milan (3.27)",
          "Vibo (3.08)",
          "Bari (4.02)",
          "Fontane Bianche (3.78)",
          "Vienna (3.87)",
          "London (3.10)",
          "Milano Marittima (4.09)",
          "Noto (3.64)",
          "Udine (4.09)",
          "Agrate (3.33)",
          "Arenella (2.50)",
          "Marzamemi (3.33)",
          "Polignano a Mare (4.17)",
          "Siracusa (3.33)"
         ],
         "textfont": {
          "color": "black",
          "size": 15
         },
         "textposition": "top center",
         "type": "scattermap"
        }
       ],
       "layout": {
        "annotations": [
         {
          "font": {
           "color": "black",
           "family": "Wurmics Bravo",
           "size": 18
          },
          "showarrow": false,
          "text": "Total locations visited: 16",
          "x": 0,
          "y": 0
         }
        ],
        "coloraxis": {
         "cmid": 3,
         "colorbar": {
          "title": {
           "text": "color"
          }
         },
         "colorscale": [
          [
           0,
           "#ff2700"
          ],
          [
           0.25,
           "#88220d"
          ],
          [
           0.5,
           "#151518"
          ],
          [
           0.75,
           "#213788"
          ],
          [
           1,
           "#00bfff"
          ]
         ]
        },
        "legend": {
         "itemsizing": "constant",
         "tracegroupgap": 0
        },
        "map": {
         "center": {
          "lat": 44.7,
          "lon": 13.5
         },
         "domain": {
          "x": [
           0,
           1
          ],
          "y": [
           0,
           1
          ]
         },
         "style": "carto-positron-nolabels",
         "zoom": 3.2
        },
        "mapbox": {
         "center": {
          "lat": 44.7,
          "lon": 13.5
         },
         "style": "carto-positron-nolabels",
         "zoom": 3.2
        },
        "margin": {
         "t": 60
        },
        "paper_bgcolor": "rgba(0,0,0,0)",
        "plot_bgcolor": "rgba(0,0,0,0)",
        "template": {
         "data": {
          "bar": [
           {
            "error_x": {
             "color": "#2a3f5f"
            },
            "error_y": {
             "color": "#2a3f5f"
            },
            "marker": {
             "line": {
              "color": "#E5ECF6",
              "width": 0.5
             },
             "pattern": {
              "fillmode": "overlay",
              "size": 10,
              "solidity": 0.2
             }
            },
            "type": "bar"
           }
          ],
          "barpolar": [
           {
            "marker": {
             "line": {
              "color": "#E5ECF6",
              "width": 0.5
             },
             "pattern": {
              "fillmode": "overlay",
              "size": 10,
              "solidity": 0.2
             }
            },
            "type": "barpolar"
           }
          ],
          "carpet": [
           {
            "aaxis": {
             "endlinecolor": "#2a3f5f",
             "gridcolor": "white",
             "linecolor": "white",
             "minorgridcolor": "white",
             "startlinecolor": "#2a3f5f"
            },
            "baxis": {
             "endlinecolor": "#2a3f5f",
             "gridcolor": "white",
             "linecolor": "white",
             "minorgridcolor": "white",
             "startlinecolor": "#2a3f5f"
            },
            "type": "carpet"
           }
          ],
          "choropleth": [
           {
            "colorbar": {
             "outlinewidth": 0,
             "ticks": ""
            },
            "type": "choropleth"
           }
          ],
          "contour": [
           {
            "colorbar": {
             "outlinewidth": 0,
             "ticks": ""
            },
            "colorscale": [
             [
              0,
              "#0d0887"
             ],
             [
              0.1111111111111111,
              "#46039f"
             ],
             [
              0.2222222222222222,
              "#7201a8"
             ],
             [
              0.3333333333333333,
              "#9c179e"
             ],
             [
              0.4444444444444444,
              "#bd3786"
             ],
             [
              0.5555555555555556,
              "#d8576b"
             ],
             [
              0.6666666666666666,
              "#ed7953"
             ],
             [
              0.7777777777777778,
              "#fb9f3a"
             ],
             [
              0.8888888888888888,
              "#fdca26"
             ],
             [
              1,
              "#f0f921"
             ]
            ],
            "type": "contour"
           }
          ],
          "contourcarpet": [
           {
            "colorbar": {
             "outlinewidth": 0,
             "ticks": ""
            },
            "type": "contourcarpet"
           }
          ],
          "heatmap": [
           {
            "colorbar": {
             "outlinewidth": 0,
             "ticks": ""
            },
            "colorscale": [
             [
              0,
              "#0d0887"
             ],
             [
              0.1111111111111111,
              "#46039f"
             ],
             [
              0.2222222222222222,
              "#7201a8"
             ],
             [
              0.3333333333333333,
              "#9c179e"
             ],
             [
              0.4444444444444444,
              "#bd3786"
             ],
             [
              0.5555555555555556,
              "#d8576b"
             ],
             [
              0.6666666666666666,
              "#ed7953"
             ],
             [
              0.7777777777777778,
              "#fb9f3a"
             ],
             [
              0.8888888888888888,
              "#fdca26"
             ],
             [
              1,
              "#f0f921"
             ]
            ],
            "type": "heatmap"
           }
          ],
          "heatmapgl": [
           {
            "colorbar": {
             "outlinewidth": 0,
             "ticks": ""
            },
            "colorscale": [
             [
              0,
              "#0d0887"
             ],
             [
              0.1111111111111111,
              "#46039f"
             ],
             [
              0.2222222222222222,
              "#7201a8"
             ],
             [
              0.3333333333333333,
              "#9c179e"
             ],
             [
              0.4444444444444444,
              "#bd3786"
             ],
             [
              0.5555555555555556,
              "#d8576b"
             ],
             [
              0.6666666666666666,
              "#ed7953"
             ],
             [
              0.7777777777777778,
              "#fb9f3a"
             ],
             [
              0.8888888888888888,
              "#fdca26"
             ],
             [
              1,
              "#f0f921"
             ]
            ],
            "type": "heatmapgl"
           }
          ],
          "histogram": [
           {
            "marker": {
             "pattern": {
              "fillmode": "overlay",
              "size": 10,
              "solidity": 0.2
             }
            },
            "type": "histogram"
           }
          ],
          "histogram2d": [
           {
            "colorbar": {
             "outlinewidth": 0,
             "ticks": ""
            },
            "colorscale": [
             [
              0,
              "#0d0887"
             ],
             [
              0.1111111111111111,
              "#46039f"
             ],
             [
              0.2222222222222222,
              "#7201a8"
             ],
             [
              0.3333333333333333,
              "#9c179e"
             ],
             [
              0.4444444444444444,
              "#bd3786"
             ],
             [
              0.5555555555555556,
              "#d8576b"
             ],
             [
              0.6666666666666666,
              "#ed7953"
             ],
             [
              0.7777777777777778,
              "#fb9f3a"
             ],
             [
              0.8888888888888888,
              "#fdca26"
             ],
             [
              1,
              "#f0f921"
             ]
            ],
            "type": "histogram2d"
           }
          ],
          "histogram2dcontour": [
           {
            "colorbar": {
             "outlinewidth": 0,
             "ticks": ""
            },
            "colorscale": [
             [
              0,
              "#0d0887"
             ],
             [
              0.1111111111111111,
              "#46039f"
             ],
             [
              0.2222222222222222,
              "#7201a8"
             ],
             [
              0.3333333333333333,
              "#9c179e"
             ],
             [
              0.4444444444444444,
              "#bd3786"
             ],
             [
              0.5555555555555556,
              "#d8576b"
             ],
             [
              0.6666666666666666,
              "#ed7953"
             ],
             [
              0.7777777777777778,
              "#fb9f3a"
             ],
             [
              0.8888888888888888,
              "#fdca26"
             ],
             [
              1,
              "#f0f921"
             ]
            ],
            "type": "histogram2dcontour"
           }
          ],
          "mesh3d": [
           {
            "colorbar": {
             "outlinewidth": 0,
             "ticks": ""
            },
            "type": "mesh3d"
           }
          ],
          "parcoords": [
           {
            "line": {
             "colorbar": {
              "outlinewidth": 0,
              "ticks": ""
             }
            },
            "type": "parcoords"
           }
          ],
          "pie": [
           {
            "automargin": true,
            "type": "pie"
           }
          ],
          "scatter": [
           {
            "fillpattern": {
             "fillmode": "overlay",
             "size": 10,
             "solidity": 0.2
            },
            "type": "scatter"
           }
          ],
          "scatter3d": [
           {
            "line": {
             "colorbar": {
              "outlinewidth": 0,
              "ticks": ""
             }
            },
            "marker": {
             "colorbar": {
              "outlinewidth": 0,
              "ticks": ""
             }
            },
            "type": "scatter3d"
           }
          ],
          "scattercarpet": [
           {
            "marker": {
             "colorbar": {
              "outlinewidth": 0,
              "ticks": ""
             }
            },
            "type": "scattercarpet"
           }
          ],
          "scattergeo": [
           {
            "marker": {
             "colorbar": {
              "outlinewidth": 0,
              "ticks": ""
             }
            },
            "type": "scattergeo"
           }
          ],
          "scattergl": [
           {
            "marker": {
             "colorbar": {
              "outlinewidth": 0,
              "ticks": ""
             }
            },
            "type": "scattergl"
           }
          ],
          "scattermapbox": [
           {
            "marker": {
             "colorbar": {
              "outlinewidth": 0,
              "ticks": ""
             }
            },
            "type": "scattermapbox"
           }
          ],
          "scatterpolar": [
           {
            "marker": {
             "colorbar": {
              "outlinewidth": 0,
              "ticks": ""
             }
            },
            "type": "scatterpolar"
           }
          ],
          "scatterpolargl": [
           {
            "marker": {
             "colorbar": {
              "outlinewidth": 0,
              "ticks": ""
             }
            },
            "type": "scatterpolargl"
           }
          ],
          "scatterternary": [
           {
            "marker": {
             "colorbar": {
              "outlinewidth": 0,
              "ticks": ""
             }
            },
            "type": "scatterternary"
           }
          ],
          "surface": [
           {
            "colorbar": {
             "outlinewidth": 0,
             "ticks": ""
            },
            "colorscale": [
             [
              0,
              "#0d0887"
             ],
             [
              0.1111111111111111,
              "#46039f"
             ],
             [
              0.2222222222222222,
              "#7201a8"
             ],
             [
              0.3333333333333333,
              "#9c179e"
             ],
             [
              0.4444444444444444,
              "#bd3786"
             ],
             [
              0.5555555555555556,
              "#d8576b"
             ],
             [
              0.6666666666666666,
              "#ed7953"
             ],
             [
              0.7777777777777778,
              "#fb9f3a"
             ],
             [
              0.8888888888888888,
              "#fdca26"
             ],
             [
              1,
              "#f0f921"
             ]
            ],
            "type": "surface"
           }
          ],
          "table": [
           {
            "cells": {
             "fill": {
              "color": "#EBF0F8"
             },
             "line": {
              "color": "white"
             }
            },
            "header": {
             "fill": {
              "color": "#C8D4E3"
             },
             "line": {
              "color": "white"
             }
            },
            "type": "table"
           }
          ]
         },
         "layout": {
          "annotationdefaults": {
           "arrowcolor": "#2a3f5f",
           "arrowhead": 0,
           "arrowwidth": 1
          },
          "autotypenumbers": "strict",
          "coloraxis": {
           "colorbar": {
            "outlinewidth": 0,
            "ticks": ""
           }
          },
          "colorscale": {
           "diverging": [
            [
             0,
             "#8e0152"
            ],
            [
             0.1,
             "#c51b7d"
            ],
            [
             0.2,
             "#de77ae"
            ],
            [
             0.3,
             "#f1b6da"
            ],
            [
             0.4,
             "#fde0ef"
            ],
            [
             0.5,
             "#f7f7f7"
            ],
            [
             0.6,
             "#e6f5d0"
            ],
            [
             0.7,
             "#b8e186"
            ],
            [
             0.8,
             "#7fbc41"
            ],
            [
             0.9,
             "#4d9221"
            ],
            [
             1,
             "#276419"
            ]
           ],
           "sequential": [
            [
             0,
             "#0d0887"
            ],
            [
             0.1111111111111111,
             "#46039f"
            ],
            [
             0.2222222222222222,
             "#7201a8"
            ],
            [
             0.3333333333333333,
             "#9c179e"
            ],
            [
             0.4444444444444444,
             "#bd3786"
            ],
            [
             0.5555555555555556,
             "#d8576b"
            ],
            [
             0.6666666666666666,
             "#ed7953"
            ],
            [
             0.7777777777777778,
             "#fb9f3a"
            ],
            [
             0.8888888888888888,
             "#fdca26"
            ],
            [
             1,
             "#f0f921"
            ]
           ],
           "sequentialminus": [
            [
             0,
             "#0d0887"
            ],
            [
             0.1111111111111111,
             "#46039f"
            ],
            [
             0.2222222222222222,
             "#7201a8"
            ],
            [
             0.3333333333333333,
             "#9c179e"
            ],
            [
             0.4444444444444444,
             "#bd3786"
            ],
            [
             0.5555555555555556,
             "#d8576b"
            ],
            [
             0.6666666666666666,
             "#ed7953"
            ],
            [
             0.7777777777777778,
             "#fb9f3a"
            ],
            [
             0.8888888888888888,
             "#fdca26"
            ],
            [
             1,
             "#f0f921"
            ]
           ]
          },
          "colorway": [
           "#636efa",
           "#EF553B",
           "#00cc96",
           "#ab63fa",
           "#FFA15A",
           "#19d3f3",
           "#FF6692",
           "#B6E880",
           "#FF97FF",
           "#FECB52"
          ],
          "font": {
           "color": "#2a3f5f"
          },
          "geo": {
           "bgcolor": "white",
           "lakecolor": "white",
           "landcolor": "#E5ECF6",
           "showlakes": true,
           "showland": true,
           "subunitcolor": "white"
          },
          "hoverlabel": {
           "align": "left"
          },
          "hovermode": "closest",
          "mapbox": {
           "style": "light"
          },
          "paper_bgcolor": "white",
          "plot_bgcolor": "#E5ECF6",
          "polar": {
           "angularaxis": {
            "gridcolor": "white",
            "linecolor": "white",
            "ticks": ""
           },
           "bgcolor": "#E5ECF6",
           "radialaxis": {
            "gridcolor": "white",
            "linecolor": "white",
            "ticks": ""
           }
          },
          "scene": {
           "xaxis": {
            "backgroundcolor": "#E5ECF6",
            "gridcolor": "white",
            "gridwidth": 2,
            "linecolor": "white",
            "showbackground": true,
            "ticks": "",
            "zerolinecolor": "white"
           },
           "yaxis": {
            "backgroundcolor": "#E5ECF6",
            "gridcolor": "white",
            "gridwidth": 2,
            "linecolor": "white",
            "showbackground": true,
            "ticks": "",
            "zerolinecolor": "white"
           },
           "zaxis": {
            "backgroundcolor": "#E5ECF6",
            "gridcolor": "white",
            "gridwidth": 2,
            "linecolor": "white",
            "showbackground": true,
            "ticks": "",
            "zerolinecolor": "white"
           }
          },
          "shapedefaults": {
           "line": {
            "color": "#2a3f5f"
           }
          },
          "ternary": {
           "aaxis": {
            "gridcolor": "white",
            "linecolor": "white",
            "ticks": ""
           },
           "baxis": {
            "gridcolor": "white",
            "linecolor": "white",
            "ticks": ""
           },
           "bgcolor": "#E5ECF6",
           "caxis": {
            "gridcolor": "white",
            "linecolor": "white",
            "ticks": ""
           }
          },
          "title": {
           "x": 0.05
          },
          "xaxis": {
           "automargin": true,
           "gridcolor": "white",
           "linecolor": "white",
           "ticks": "",
           "title": {
            "standoff": 15
           },
           "zerolinecolor": "white",
           "zerolinewidth": 2
          },
          "yaxis": {
           "automargin": true,
           "gridcolor": "white",
           "linecolor": "white",
           "ticks": "",
           "title": {
            "standoff": 15
           },
           "zerolinecolor": "white",
           "zerolinewidth": 2
          }
         }
        }
       }
      }
     },
     "metadata": {},
     "output_type": "display_data"
    },
    {
     "ename": "ValueError",
     "evalue": "\nImage export using the \"kaleido\" engine requires the kaleido package,\nwhich can be installed using pip:\n    $ pip install -U kaleido\n",
     "output_type": "error",
     "traceback": [
      "\u001b[0;31m---------------------------------------------------------------------------\u001b[0m",
      "\u001b[0;31mValueError\u001b[0m                                Traceback (most recent call last)",
      "Cell \u001b[0;32mIn[195], line 2\u001b[0m\n\u001b[1;32m      1\u001b[0m \u001b[38;5;66;03m# Execution (2024)\u001b[39;00m\n\u001b[0;32m----> 2\u001b[0m \u001b[43mplot_map\u001b[49m\u001b[43m(\u001b[49m\u001b[43mdata_current_year\u001b[49m\u001b[38;5;241;43m.\u001b[39;49m\u001b[43mcopy\u001b[49m\u001b[43m(\u001b[49m\u001b[43m)\u001b[49m\u001b[43m,\u001b[49m\u001b[43m \u001b[49m\u001b[43mpalette_list\u001b[49m\u001b[43m,\u001b[49m\u001b[43m \u001b[49m\u001b[38;5;124;43m'\u001b[39;49m\u001b[38;5;124;43mmap.png\u001b[39;49m\u001b[38;5;124;43m'\u001b[39;49m\u001b[43m,\u001b[49m\u001b[43m \u001b[49m\u001b[43mshrink\u001b[49m\u001b[38;5;241;43m=\u001b[39;49m\u001b[38;5;241;43m0.2\u001b[39;49m\u001b[43m)\u001b[49m\n",
      "Cell \u001b[0;32mIn[194], line 67\u001b[0m, in \u001b[0;36mplot_map\u001b[0;34m(data_current_year, palette_list, output_file, shrink)\u001b[0m\n\u001b[1;32m     63\u001b[0m fig\u001b[38;5;241m.\u001b[39mupdate_layout(plot_bgcolor\u001b[38;5;241m=\u001b[39m\u001b[38;5;124m'\u001b[39m\u001b[38;5;124mrgba(0,0,0,0)\u001b[39m\u001b[38;5;124m'\u001b[39m, paper_bgcolor\u001b[38;5;241m=\u001b[39m\u001b[38;5;124m'\u001b[39m\u001b[38;5;124mrgba(0,0,0,0)\u001b[39m\u001b[38;5;124m'\u001b[39m)\n\u001b[1;32m     65\u001b[0m fig\u001b[38;5;241m.\u001b[39mshow()\n\u001b[0;32m---> 67\u001b[0m \u001b[43mpio\u001b[49m\u001b[38;5;241;43m.\u001b[39;49m\u001b[43mwrite_image\u001b[49m\u001b[43m(\u001b[49m\u001b[43mfig\u001b[49m\u001b[43m,\u001b[49m\u001b[43m \u001b[49m\u001b[43moutput_file\u001b[49m\u001b[43m,\u001b[49m\u001b[43m \u001b[49m\u001b[38;5;28;43mformat\u001b[39;49m\u001b[38;5;241;43m=\u001b[39;49m\u001b[38;5;124;43m'\u001b[39;49m\u001b[38;5;124;43mpng\u001b[39;49m\u001b[38;5;124;43m'\u001b[39;49m\u001b[43m,\u001b[49m\u001b[43m \u001b[49m\u001b[43mwidth\u001b[49m\u001b[38;5;241;43m=\u001b[39;49m\u001b[38;5;241;43m800\u001b[39;49m\u001b[43m,\u001b[49m\u001b[43m \u001b[49m\u001b[43mheight\u001b[49m\u001b[38;5;241;43m=\u001b[39;49m\u001b[38;5;241;43m600\u001b[39;49m\u001b[43m)\u001b[49m\n",
      "File \u001b[0;32m/opt/homebrew/Caskroom/miniconda/base/envs/pixels/lib/python3.9/site-packages/plotly/io/_kaleido.py:266\u001b[0m, in \u001b[0;36mwrite_image\u001b[0;34m(fig, file, format, scale, width, height, validate, engine)\u001b[0m\n\u001b[1;32m    250\u001b[0m             \u001b[38;5;28;01mraise\u001b[39;00m \u001b[38;5;167;01mValueError\u001b[39;00m(\n\u001b[1;32m    251\u001b[0m \u001b[38;5;250m                \u001b[39m\u001b[38;5;124;03m\"\"\"\u001b[39;00m\n\u001b[1;32m    252\u001b[0m \u001b[38;5;124;03mCannot infer image type from output path '{file}'.\u001b[39;00m\n\u001b[0;32m   (...)\u001b[0m\n\u001b[1;32m    260\u001b[0m                 )\n\u001b[1;32m    261\u001b[0m             )\n\u001b[1;32m    263\u001b[0m     \u001b[38;5;66;03m# Request image\u001b[39;00m\n\u001b[1;32m    264\u001b[0m     \u001b[38;5;66;03m# -------------\u001b[39;00m\n\u001b[1;32m    265\u001b[0m     \u001b[38;5;66;03m# Do this first so we don't create a file if image conversion fails\u001b[39;00m\n\u001b[0;32m--> 266\u001b[0m     img_data \u001b[38;5;241m=\u001b[39m \u001b[43mto_image\u001b[49m\u001b[43m(\u001b[49m\n\u001b[1;32m    267\u001b[0m \u001b[43m        \u001b[49m\u001b[43mfig\u001b[49m\u001b[43m,\u001b[49m\n\u001b[1;32m    268\u001b[0m \u001b[43m        \u001b[49m\u001b[38;5;28;43mformat\u001b[39;49m\u001b[38;5;241;43m=\u001b[39;49m\u001b[38;5;28;43mformat\u001b[39;49m\u001b[43m,\u001b[49m\n\u001b[1;32m    269\u001b[0m \u001b[43m        \u001b[49m\u001b[43mscale\u001b[49m\u001b[38;5;241;43m=\u001b[39;49m\u001b[43mscale\u001b[49m\u001b[43m,\u001b[49m\n\u001b[1;32m    270\u001b[0m \u001b[43m        \u001b[49m\u001b[43mwidth\u001b[49m\u001b[38;5;241;43m=\u001b[39;49m\u001b[43mwidth\u001b[49m\u001b[43m,\u001b[49m\n\u001b[1;32m    271\u001b[0m \u001b[43m        \u001b[49m\u001b[43mheight\u001b[49m\u001b[38;5;241;43m=\u001b[39;49m\u001b[43mheight\u001b[49m\u001b[43m,\u001b[49m\n\u001b[1;32m    272\u001b[0m \u001b[43m        \u001b[49m\u001b[43mvalidate\u001b[49m\u001b[38;5;241;43m=\u001b[39;49m\u001b[43mvalidate\u001b[49m\u001b[43m,\u001b[49m\n\u001b[1;32m    273\u001b[0m \u001b[43m        \u001b[49m\u001b[43mengine\u001b[49m\u001b[38;5;241;43m=\u001b[39;49m\u001b[43mengine\u001b[49m\u001b[43m,\u001b[49m\n\u001b[1;32m    274\u001b[0m \u001b[43m    \u001b[49m\u001b[43m)\u001b[49m\n\u001b[1;32m    276\u001b[0m     \u001b[38;5;66;03m# Open file\u001b[39;00m\n\u001b[1;32m    277\u001b[0m     \u001b[38;5;66;03m# ---------\u001b[39;00m\n\u001b[1;32m    278\u001b[0m     \u001b[38;5;28;01mif\u001b[39;00m path \u001b[38;5;129;01mis\u001b[39;00m \u001b[38;5;28;01mNone\u001b[39;00m:\n\u001b[1;32m    279\u001b[0m         \u001b[38;5;66;03m# We previously failed to make sense of `file` as a pathlib object.\u001b[39;00m\n\u001b[1;32m    280\u001b[0m         \u001b[38;5;66;03m# Attempt to write to `file` as an open file descriptor.\u001b[39;00m\n",
      "File \u001b[0;32m/opt/homebrew/Caskroom/miniconda/base/envs/pixels/lib/python3.9/site-packages/plotly/io/_kaleido.py:132\u001b[0m, in \u001b[0;36mto_image\u001b[0;34m(fig, format, width, height, scale, validate, engine)\u001b[0m\n\u001b[1;32m    130\u001b[0m     \u001b[38;5;66;03m# Raise informative error message if Kaleido is not installed\u001b[39;00m\n\u001b[1;32m    131\u001b[0m     \u001b[38;5;28;01mif\u001b[39;00m scope \u001b[38;5;129;01mis\u001b[39;00m \u001b[38;5;28;01mNone\u001b[39;00m:\n\u001b[0;32m--> 132\u001b[0m         \u001b[38;5;28;01mraise\u001b[39;00m \u001b[38;5;167;01mValueError\u001b[39;00m(\n\u001b[1;32m    133\u001b[0m \u001b[38;5;250m            \u001b[39m\u001b[38;5;124;03m\"\"\"\u001b[39;00m\n\u001b[1;32m    134\u001b[0m \u001b[38;5;124;03mImage export using the \"kaleido\" engine requires the kaleido package,\u001b[39;00m\n\u001b[1;32m    135\u001b[0m \u001b[38;5;124;03mwhich can be installed using pip:\u001b[39;00m\n\u001b[1;32m    136\u001b[0m \u001b[38;5;124;03m    $ pip install -U kaleido\u001b[39;00m\n\u001b[1;32m    137\u001b[0m \u001b[38;5;124;03m\"\"\"\u001b[39;00m\n\u001b[1;32m    138\u001b[0m         )\n\u001b[1;32m    140\u001b[0m     \u001b[38;5;66;03m# Validate figure\u001b[39;00m\n\u001b[1;32m    141\u001b[0m     \u001b[38;5;66;03m# ---------------\u001b[39;00m\n\u001b[1;32m    142\u001b[0m     fig_dict \u001b[38;5;241m=\u001b[39m validate_coerce_fig_to_dict(fig, validate)\n",
      "\u001b[0;31mValueError\u001b[0m: \nImage export using the \"kaleido\" engine requires the kaleido package,\nwhich can be installed using pip:\n    $ pip install -U kaleido\n"
     ]
    }
   ],
   "source": [
    "# Execution (2024)\n",
    "plot_map(data_current_year.copy(), palette_list, 'map.png', shrink=0.2)"
   ]
  },
  {
   "cell_type": "markdown",
   "metadata": {},
   "source": [
    "# Word Clouds ☁️"
   ]
  },
  {
   "cell_type": "code",
   "execution_count": 44,
   "metadata": {},
   "outputs": [],
   "source": [
    "additional_stopwords = [\n",
    "    \"i'm\",\n",
    "    \"it's\",\n",
    "    \"kinda\",\n",
    "    \"said\",\n",
    "    \"overall\",\n",
    "    \"anyways\"\n",
    "]\n",
    "\n",
    "stopwords = set(STOPWORDS)\n",
    "\n",
    "for word in additional_stopwords:\n",
    "    stopwords.add(word)"
   ]
  },
  {
   "cell_type": "code",
   "execution_count": 45,
   "metadata": {},
   "outputs": [],
   "source": [
    "def term_list(document_corpus : pd.DataFrame, label : str) -> list[str]:\n",
    "    \"\"\"\"\"\"\n",
    "\n",
    "    document_corpus[label] = document_corpus[label].apply(lambda x : [y.strip(string.punctuation) for y in x.strip().lower().split()])\n",
    "    terms = tag_list(document_corpus, label)\n",
    "    terms.remove('')\n",
    "    return terms"
   ]
  },
  {
   "cell_type": "code",
   "execution_count": 46,
   "metadata": {},
   "outputs": [],
   "source": [
    "def tf_idf(document_corpus : pd.DataFrame, label : str, stopwords : set = STOPWORDS) -> dict:\n",
    "    \"\"\"\"\"\"\n",
    "\n",
    "    assert label in document_corpus.columns, f\"{label} is not a valid column.\"\n",
    "    \n",
    "    # convert column dtype to string\n",
    "    document_corpus[label] = document_corpus[label].apply(lambda x : str(x))\n",
    "\n",
    "    # compute list of possible terms (avoiding STOPWORDS)\n",
    "    terms = term_list(document_corpus, label)\n",
    "    terms = list(set(terms) - stopwords)\n",
    "\n",
    "\n",
    "    # compute term frequency and document frequency for each term\n",
    "    tf = []\n",
    "    df = {term : 0 for term in terms}\n",
    "    for index, row in document_corpus.iterrows():\n",
    "        previous_df = deepcopy(df)\n",
    "        for term in row[label]:\n",
    "            if term in df.keys() : df[term] += 1 \n",
    "        tf_row = {term : df[term] - previous_df[term] for term in df}\n",
    "        tf.append(tf_row)\n",
    "\n",
    "    tf = pd.DataFrame(tf, dtype=\"Sparse[int]\")\n",
    "\n",
    "    # TF-IDF = tf(i,j) * log(N/df(i))\n",
    "    tf_idf = tf.apply(lambda x : x * np.log(tf.shape[0] / df[x.name]), axis=0)\n",
    "\n",
    "    return tf_idf.mean().to_dict()\n",
    "        "
   ]
  },
  {
   "cell_type": "code",
   "execution_count": 47,
   "metadata": {},
   "outputs": [],
   "source": [
    "# Word cloud per daily notes (filtered by rating) viz function\n",
    "def plot_wordcloud_from_daily_notes(data : pd.DataFrame, palette_list : list[str], output_file : str, ratings_range : tuple[int] = (0,6), img_path : str = './face-smile-solid.png', use_tf_idf : bool = True, stopwords : set = STOPWORDS):\n",
    "    \"\"\"\"\"\"\n",
    "\n",
    "    # Filter data to include only the ratings specified in ratings_range\n",
    "    assert len(ratings_range) == 2, \"Ratings range is required to have length equal to 2.\"\n",
    "    filtered_data = data[(data['scores'] > ratings_range[0]) & (data['scores'] < ratings_range[1])]\n",
    "    \n",
    "    mask = np.array(Image.open(img_path))\n",
    "\n",
    "    if len(mask.shape) == 3 : # BW channels. Need only one\n",
    "        mask = np.array([[j[1] for j in i] for i in mask])\n",
    "    mask = np.abs(255-mask) # black -> white, white/transparent -> black\n",
    "    \n",
    "    cmap = generate_colormap_from_hex_list(palette_list)\n",
    "\n",
    "    # Create wordcloud\n",
    "    wc = WordCloud(mask=mask, colormap=cmap, background_color=None, mode='RGBA', stopwords=STOPWORDS, collocations=False)\n",
    "    if tf_idf: # Compute TF-IDF word importance values\n",
    "        term_importances = tf_idf(filtered_data, 'notes', stopwords)\n",
    "        wc.generate_from_frequencies(term_importances)\n",
    "    else: # generate from simple term frequencies\n",
    "        text = filtered_data['notes'].sum() # Does this merge final/initial words of consecutive days?\n",
    "        wc.generate(text)\n",
    "\n",
    "    plt.figure(figsize=(10, 10))\n",
    "    plt.imshow(wc, interpolation='bilinear')\n",
    "    plt.axis(\"off\")\n",
    "    \n",
    "    plt.savefig(output_file, dpi=600, bbox_inches='tight', pad_inches=1.0, transparent=True)\n",
    "    plt.close()\n"
   ]
  },
  {
   "cell_type": "code",
   "execution_count": 48,
   "metadata": {},
   "outputs": [],
   "source": [
    "# Execution (2024, all days)\n",
    "plot_wordcloud_from_daily_notes(data_current_year.copy(), palette_list, 'wordcloud_all_days.svg', stopwords=stopwords)"
   ]
  },
  {
   "cell_type": "code",
   "execution_count": 49,
   "metadata": {},
   "outputs": [
    {
     "name": "stderr",
     "output_type": "stream",
     "text": [
      "/var/folders/pp/q0kl1bl507q_7gsf1tczbrg80000gn/T/ipykernel_41669/1148856107.py:7: SettingWithCopyWarning:\n",
      "\n",
      "\n",
      "A value is trying to be set on a copy of a slice from a DataFrame.\n",
      "Try using .loc[row_indexer,col_indexer] = value instead\n",
      "\n",
      "See the caveats in the documentation: https://pandas.pydata.org/pandas-docs/stable/user_guide/indexing.html#returning-a-view-versus-a-copy\n",
      "\n",
      "/var/folders/pp/q0kl1bl507q_7gsf1tczbrg80000gn/T/ipykernel_41669/1033994928.py:4: SettingWithCopyWarning:\n",
      "\n",
      "\n",
      "A value is trying to be set on a copy of a slice from a DataFrame.\n",
      "Try using .loc[row_indexer,col_indexer] = value instead\n",
      "\n",
      "See the caveats in the documentation: https://pandas.pydata.org/pandas-docs/stable/user_guide/indexing.html#returning-a-view-versus-a-copy\n",
      "\n"
     ]
    }
   ],
   "source": [
    "# Execution (2024, bad days: rating 1,2)\n",
    "plot_wordcloud_from_daily_notes(data_current_year.copy(), palette_list, 'wordcloud_bad_days.svg', (0,3), img_path='./face-sad-cry-solid.png', stopwords=stopwords)"
   ]
  },
  {
   "cell_type": "code",
   "execution_count": 50,
   "metadata": {},
   "outputs": [
    {
     "name": "stderr",
     "output_type": "stream",
     "text": [
      "/var/folders/pp/q0kl1bl507q_7gsf1tczbrg80000gn/T/ipykernel_41669/1148856107.py:7: SettingWithCopyWarning:\n",
      "\n",
      "\n",
      "A value is trying to be set on a copy of a slice from a DataFrame.\n",
      "Try using .loc[row_indexer,col_indexer] = value instead\n",
      "\n",
      "See the caveats in the documentation: https://pandas.pydata.org/pandas-docs/stable/user_guide/indexing.html#returning-a-view-versus-a-copy\n",
      "\n",
      "/var/folders/pp/q0kl1bl507q_7gsf1tczbrg80000gn/T/ipykernel_41669/1033994928.py:4: SettingWithCopyWarning:\n",
      "\n",
      "\n",
      "A value is trying to be set on a copy of a slice from a DataFrame.\n",
      "Try using .loc[row_indexer,col_indexer] = value instead\n",
      "\n",
      "See the caveats in the documentation: https://pandas.pydata.org/pandas-docs/stable/user_guide/indexing.html#returning-a-view-versus-a-copy\n",
      "\n"
     ]
    }
   ],
   "source": [
    "# Execution (2024, good days: rating 4,5)\n",
    "plot_wordcloud_from_daily_notes(data_current_year.copy(), palette_list, 'wordcloud_good_days.svg', (4,6), stopwords=stopwords)"
   ]
  }
 ],
 "metadata": {
  "kernelspec": {
   "display_name": "pixels",
   "language": "python",
   "name": "python3"
  },
  "language_info": {
   "codemirror_mode": {
    "name": "ipython",
    "version": 3
   },
   "file_extension": ".py",
   "mimetype": "text/x-python",
   "name": "python",
   "nbconvert_exporter": "python",
   "pygments_lexer": "ipython3",
   "version": "3.9.20"
  }
 },
 "nbformat": 4,
 "nbformat_minor": 2
}
