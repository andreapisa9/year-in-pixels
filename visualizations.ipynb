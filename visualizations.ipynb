{
 "cells": [
  {
   "cell_type": "markdown",
   "metadata": {},
   "source": [
    "# Year in Pixels Visualizations"
   ]
  },
  {
   "cell_type": "code",
   "execution_count": 1,
   "metadata": {},
   "outputs": [],
   "source": [
    "# imports\n",
    "import numpy as np\n",
    "import pandas as pd\n",
    "import matplotlib.pyplot as plt\n",
    "from matplotlib.colors import LinearSegmentedColormap, to_rgba, Normalize\n",
    "import seaborn as sns\n",
    "import json\n",
    "import datetime"
   ]
  },
  {
   "cell_type": "code",
   "execution_count": 2,
   "metadata": {},
   "outputs": [],
   "source": [
    "# load externally defined environment variables\n",
    "from dotenv import dotenv_values\n",
    "env_vars = dotenv_values()"
   ]
  },
  {
   "cell_type": "code",
   "execution_count": 3,
   "metadata": {},
   "outputs": [
    {
     "data": {
      "text/plain": [
       "['ff2700', '88220d', '151518', '213788', '00bfff']"
      ]
     },
     "execution_count": 3,
     "metadata": {},
     "output_type": "execute_result"
    }
   ],
   "source": [
    "# load color palette from environment variables\n",
    "palette_list = [env_vars[\"COLOR_PALETTE_{}\".format(i)] for i in range(1,6)]\n",
    "palette_list"
   ]
  },
  {
   "cell_type": "code",
   "execution_count": 4,
   "metadata": {},
   "outputs": [
    {
     "data": {
      "text/html": [
       "<div>\n",
       "<style scoped>\n",
       "    .dataframe tbody tr th:only-of-type {\n",
       "        vertical-align: middle;\n",
       "    }\n",
       "\n",
       "    .dataframe tbody tr th {\n",
       "        vertical-align: top;\n",
       "    }\n",
       "\n",
       "    .dataframe thead th {\n",
       "        text-align: right;\n",
       "    }\n",
       "</style>\n",
       "<table border=\"1\" class=\"dataframe\">\n",
       "  <thead>\n",
       "    <tr style=\"text-align: right;\">\n",
       "      <th></th>\n",
       "      <th>date</th>\n",
       "      <th>scores</th>\n",
       "      <th>notes</th>\n",
       "      <th>tags</th>\n",
       "    </tr>\n",
       "  </thead>\n",
       "  <tbody>\n",
       "    <tr>\n",
       "      <th>0</th>\n",
       "      <td>2022-4-1</td>\n",
       "      <td>[3]</td>\n",
       "      <td></td>\n",
       "      <td>[{'type': 'Emotions', 'entries': ['excitement'...</td>\n",
       "    </tr>\n",
       "    <tr>\n",
       "      <th>1</th>\n",
       "      <td>2022-4-2</td>\n",
       "      <td>[4]</td>\n",
       "      <td></td>\n",
       "      <td>[{'type': 'Emotions', 'entries': ['bore', 'chi...</td>\n",
       "    </tr>\n",
       "    <tr>\n",
       "      <th>2</th>\n",
       "      <td>2022-4-3</td>\n",
       "      <td>[1]</td>\n",
       "      <td></td>\n",
       "      <td>[{'type': 'Emotions', 'entries': ['anger', 'an...</td>\n",
       "    </tr>\n",
       "    <tr>\n",
       "      <th>3</th>\n",
       "      <td>2022-4-4</td>\n",
       "      <td>[3]</td>\n",
       "      <td></td>\n",
       "      <td>[{'type': 'Emotions', 'entries': ['anxiety', '...</td>\n",
       "    </tr>\n",
       "    <tr>\n",
       "      <th>4</th>\n",
       "      <td>2022-4-5</td>\n",
       "      <td>[2]</td>\n",
       "      <td></td>\n",
       "      <td>[{'type': 'Emotions', 'entries': ['bore', 'chi...</td>\n",
       "    </tr>\n",
       "    <tr>\n",
       "      <th>...</th>\n",
       "      <td>...</td>\n",
       "      <td>...</td>\n",
       "      <td>...</td>\n",
       "      <td>...</td>\n",
       "    </tr>\n",
       "    <tr>\n",
       "      <th>954</th>\n",
       "      <td>2024-11-10</td>\n",
       "      <td>[3]</td>\n",
       "      <td>Worked quite a bit for a Sunday. Happy for a p...</td>\n",
       "      <td>[{'type': 'Productivity Rating', 'entries': ['...</td>\n",
       "    </tr>\n",
       "    <tr>\n",
       "      <th>955</th>\n",
       "      <td>2024-11-11</td>\n",
       "      <td>[3]</td>\n",
       "      <td>Maurizio fell ill. Will have even more stuff t...</td>\n",
       "      <td>[{'type': 'Productivity Rating', 'entries': ['...</td>\n",
       "    </tr>\n",
       "    <tr>\n",
       "      <th>956</th>\n",
       "      <td>2024-11-12</td>\n",
       "      <td>[3]</td>\n",
       "      <td>Shaved my head and shaped my beard in the morn...</td>\n",
       "      <td>[{'type': 'Productivity Rating', 'entries': ['...</td>\n",
       "    </tr>\n",
       "    <tr>\n",
       "      <th>957</th>\n",
       "      <td>2024-11-13</td>\n",
       "      <td>[4]</td>\n",
       "      <td>Back to Milan. Today's lecture was called off,...</td>\n",
       "      <td>[{'type': 'Productivity Rating', 'entries': ['...</td>\n",
       "    </tr>\n",
       "    <tr>\n",
       "      <th>958</th>\n",
       "      <td>2024-11-14</td>\n",
       "      <td>[5]</td>\n",
       "      <td>Spent a chill morning, ate a great lunch, gave...</td>\n",
       "      <td>[{'type': 'Productivity Rating', 'entries': ['...</td>\n",
       "    </tr>\n",
       "  </tbody>\n",
       "</table>\n",
       "<p>959 rows × 4 columns</p>\n",
       "</div>"
      ],
      "text/plain": [
       "           date scores                                              notes  \\\n",
       "0      2022-4-1    [3]                                                      \n",
       "1      2022-4-2    [4]                                                      \n",
       "2      2022-4-3    [1]                                                      \n",
       "3      2022-4-4    [3]                                                      \n",
       "4      2022-4-5    [2]                                                      \n",
       "..          ...    ...                                                ...   \n",
       "954  2024-11-10    [3]  Worked quite a bit for a Sunday. Happy for a p...   \n",
       "955  2024-11-11    [3]  Maurizio fell ill. Will have even more stuff t...   \n",
       "956  2024-11-12    [3]  Shaved my head and shaped my beard in the morn...   \n",
       "957  2024-11-13    [4]  Back to Milan. Today's lecture was called off,...   \n",
       "958  2024-11-14    [5]  Spent a chill morning, ate a great lunch, gave...   \n",
       "\n",
       "                                                  tags  \n",
       "0    [{'type': 'Emotions', 'entries': ['excitement'...  \n",
       "1    [{'type': 'Emotions', 'entries': ['bore', 'chi...  \n",
       "2    [{'type': 'Emotions', 'entries': ['anger', 'an...  \n",
       "3    [{'type': 'Emotions', 'entries': ['anxiety', '...  \n",
       "4    [{'type': 'Emotions', 'entries': ['bore', 'chi...  \n",
       "..                                                 ...  \n",
       "954  [{'type': 'Productivity Rating', 'entries': ['...  \n",
       "955  [{'type': 'Productivity Rating', 'entries': ['...  \n",
       "956  [{'type': 'Productivity Rating', 'entries': ['...  \n",
       "957  [{'type': 'Productivity Rating', 'entries': ['...  \n",
       "958  [{'type': 'Productivity Rating', 'entries': ['...  \n",
       "\n",
       "[959 rows x 4 columns]"
      ]
     },
     "execution_count": 4,
     "metadata": {},
     "output_type": "execute_result"
    }
   ],
   "source": [
    "# data extraction into Pandas DataFrame\n",
    "year = env_vars['YEAR']\n",
    "\n",
    "with open('./data/data_{}.json'.format(year)) as fp:\n",
    "    data = json.load(fp)\n",
    "data = pd.DataFrame(data)\n",
    "data = data.drop(columns=['type'])\n",
    "data"
   ]
  },
  {
   "cell_type": "code",
   "execution_count": 5,
   "metadata": {},
   "outputs": [],
   "source": [
    "# data cleaning\n",
    "data['scores'] = data['scores'].apply(lambda x : int(x[0])) # convert scores from lists to integers\n",
    "data['date'] = data['date'].apply(lambda x : datetime.datetime.strptime(x, '%Y-%m-%d')) # convert dates from strings to datetime objects\n",
    "\n",
    "# make a column for each tag\n",
    "tags = {}\n",
    "for index, row in data.iterrows():\n",
    "    row_data = {}\n",
    "    tags_list = row['tags']\n",
    "    for tag in tags_list:\n",
    "        if tag['type'] not in row_data:\n",
    "            row_data = {**row_data, tag['type'] : tag['entries']}\n",
    "        else:\n",
    "            row_data[tag['type']].extend(tag['entries'])\n",
    "    tags = {**tags, index : row_data}\n",
    "\n",
    "tags = pd.DataFrame(tags).T\n",
    "\n",
    "data = pd.concat([data, tags], axis=1).drop(columns=['tags'])\n",
    "\n",
    "data['Productivity Rating'] = data['Productivity Rating'].apply(lambda x : int(x[0]) if isinstance(x, list) else 0) # convert productivity ratings from list to int\n",
    "\n",
    "# Filter for this year's and last year's data\n",
    "def check_year(year_to_check : datetime.date, reference : int):\n",
    "    return True if year_to_check.year == reference else False\n",
    "\n",
    "data_all = data\n",
    "\n",
    "mask_previous_year = data_all['date'].apply(lambda x : check_year(x, int(year)-1))\n",
    "data_previous_year = data_all[mask_previous_year]\n",
    "\n",
    "mask_current_year = data_all['date'].apply(lambda x : check_year(x, int(year)))\n",
    "data_current_year = data_all[mask_current_year]"
   ]
  },
  {
   "cell_type": "markdown",
   "metadata": {},
   "source": [
    "# Pixels (Github-like viz)"
   ]
  },
  {
   "cell_type": "code",
   "execution_count": 6,
   "metadata": {},
   "outputs": [],
   "source": [
    "# Pixels viz function (each row is one week, squares are a little spaced out and rounded, month labels are visible)\n",
    "def generate_pixels_heatmap(df : pd.DataFrame, palette : list[str], output_file : str):\n",
    "    \"\"\"\n",
    "    Generates a GitHub-style heatmap chart.\n",
    "\n",
    "    Parameters:\n",
    "        df (pd.DataFrame): DataFrame with 'date' (datetime) and 'scores' columns.\n",
    "        palette (list): List of hexadecimal color strings defining the color palette.\n",
    "        output_file (str): Path to save the resulting PNG image.\n",
    "\n",
    "    Returns:\n",
    "        None\n",
    "    \"\"\"\n",
    "    # Ensure 'date' column is datetime\n",
    "    df['date'] = pd.to_datetime(df['date'])\n",
    "\n",
    "    # Create a full year of dates for the current year\n",
    "    year = df['date'].dt.year.min()\n",
    "    start_date = pd.Timestamp(f'{year}-01-01')\n",
    "    end_date = pd.Timestamp(f'{year}-12-31')\n",
    "    all_dates = pd.date_range(start=start_date, end=end_date, freq='D')\n",
    "\n",
    "    # Create a DataFrame for all days of the year\n",
    "    all_days = pd.DataFrame({'date': all_dates})\n",
    "\n",
    "    # Merge with the input DataFrame to align data\n",
    "    df = all_days.merge(df, on='date', how='left').fillna({'rating': 0})\n",
    "\n",
    "    # Add week and day of the week for plotting\n",
    "    df['week'] = df['date'].dt.isocalendar().week\n",
    "    df['day_of_week'] = df['date'].dt.weekday\n",
    "\n",
    "    # Handle the edge case where week 53 exists in the data\n",
    "    if df['week'].max() == 53:\n",
    "        df.loc[df['week'] == 53, 'week'] = 52\n",
    "\n",
    "    # Ensure unique entries for pivot table by averaging ratings for duplicate days\n",
    "    df = df.groupby(['week', 'day_of_week'], as_index=False)['scores'].mean()\n",
    "\n",
    "    # Create a pivot table for heatmap data\n",
    "    heatmap_data = df.pivot(index='day_of_week', columns='week', values='scores')\n",
    "\n",
    "    # Convert hexadecimal palette to RGBA\n",
    "    rgba_palette = [to_rgba('#'+color) for color in palette]\n",
    "\n",
    "    # Create a custom colormap\n",
    "    cmap = LinearSegmentedColormap.from_list(\"custom_palette\", rgba_palette, N=256)\n",
    "\n",
    "    # Plot the heatmap\n",
    "    plt.figure(figsize=(12, 8))\n",
    "    sns.heatmap(\n",
    "        heatmap_data,\n",
    "        cmap=cmap,\n",
    "        linewidths=0.5,\n",
    "        linecolor='black',\n",
    "        cbar=False,\n",
    "        square=True\n",
    "    )\n",
    "\n",
    "    # Style the plot to look like GitHub\n",
    "    plt.gca().invert_yaxis()\n",
    "    plt.axis('off')\n",
    "\n",
    "    # Save the heatmap to a PNG file with a transparent background\n",
    "    plt.savefig(output_file, dpi=600, bbox_inches='tight', pad_inches=0, transparent=True)\n",
    "    plt.close()"
   ]
  },
  {
   "cell_type": "code",
   "execution_count": 7,
   "metadata": {},
   "outputs": [],
   "source": [
    "# Execution (2024)\n",
    "generate_pixels_heatmap(data_current_year.copy(), palette_list, 'pixels_grid.png')"
   ]
  },
  {
   "cell_type": "markdown",
   "metadata": {},
   "source": [
    "# Average Rating YoY"
   ]
  },
  {
   "cell_type": "code",
   "execution_count": 8,
   "metadata": {},
   "outputs": [],
   "source": [
    "# Avg rating viz function, YoY increments if existing\n",
    "\n",
    "def plot_average_rating(data : pd.DataFrame, palette_list : list[str], output_file : str):\n",
    "    \"\"\"\n",
    "    Plot a colorbar representing the ratings range and draw the average rating on it.\n",
    "\n",
    "    Parameters:\n",
    "        data (pd.DataFrame): DataFrame with 'scores' column.\n",
    "        palette_list (list): List of hexadecimal color strings defining the color palette.\n",
    "        output_file (str): Path to save the resulting PNG image.\n",
    "\n",
    "    Returns:\n",
    "        None.\n",
    "    \"\"\"\n",
    "    # Define the ratings range\n",
    "    ratings_range = (0, 5)\n",
    "\n",
    "    # Calculate the average rating\n",
    "    average_rating = data['scores'].mean()\n",
    "\n",
    "    # Create a LinearSegmentedColormap from the palette\n",
    "    rgba_palette = [to_rgba('#'+color) for color in palette_list]\n",
    "    cmap = LinearSegmentedColormap.from_list(\"custom_palette\", rgba_palette, N=256)\n",
    "\n",
    "    # Create a figure and axis\n",
    "    fig, ax = plt.subplots(figsize=(10, 1))\n",
    "\n",
    "    range_x_axis = np.linspace(ratings_range[0], ratings_range[1], len(palette_list)*256)\n",
    "\n",
    "    # Draw the colorbar\n",
    "    norm = Normalize(vmin=ratings_range[0], vmax=ratings_range[1])\n",
    "    thinness = 20\n",
    "    aspect = 1/thinness\n",
    "    cb = ax.imshow(range_x_axis.reshape((1,len(palette_list)*256)), cmap=cmap, aspect=aspect, norm=norm, extent=[ratings_range[0], ratings_range[1],0, thinness])\n",
    "    ax.set_yticks([])\n",
    "    ax.set_xticks([])\n",
    "\n",
    "    # Draw the rating milestones\n",
    "    # milestones = range_x_axis\n",
    "    # for milestone in milestones:\n",
    "    #     ax.scatter(milestone * 256 / ratings_range[1], 0.5, color=cmap(norm(milestone)), s=800, edgecolors='black', zorder=20)\n",
    "\n",
    "    # Draw the average rating indicator\n",
    "    ax.axvline(average_rating, color='white', linewidth=5, zorder=10)\n",
    "    ax.text(ratings_range[0] - 0.1, 0.5, f'{average_rating:.2f}', color='white', ha='right', va='bottom', fontsize=48, fontweight='bold', fontname='Helvetica')\n",
    "    fig.set_facecolor('black')\n",
    "\n",
    "    plt.savefig(output_file, dpi=600, bbox_inches='tight', pad_inches=0, transparent=True)\n",
    "    plt.close()"
   ]
  },
  {
   "cell_type": "code",
   "execution_count": 9,
   "metadata": {},
   "outputs": [],
   "source": [
    "# Show the plot\n",
    "plot_average_rating(data_current_year.copy(), palette_list, 'avg_rating_curr_year.png')"
   ]
  },
  {
   "cell_type": "code",
   "execution_count": 43,
   "metadata": {},
   "outputs": [],
   "source": [
    "# Line chart of avg rating per year\n",
    "def plot_avg_ratings_per_year(data_all : pd.DataFrame, label : str, palette_list : list[str], output_file : str):\n",
    "    \n",
    "    years = list(range(\n",
    "        data_all.loc[0,['date']].to_numpy()[0].year,\n",
    "        data_all.loc[data_all.shape[0]-1, ['date']].to_numpy()[0].year+1,\n",
    "        1))\n",
    "\n",
    "    avgs = []\n",
    "    for year in years:\n",
    "        filter = data_all['date'].apply(lambda x : check_year(x, year))\n",
    "        data_filtered = data_all[filter]\n",
    "        avgs.append(data_filtered[label].mean())\n",
    "\n",
    "    fig, ax = plt.subplots(figsize=(5,4))\n",
    "\n",
    "    for data_point in range(len(avgs)):\n",
    "        ax.annotate(f'{avgs[data_point]:.2f}', (years[data_point]+0.1,avgs[data_point]), color='white', fontname='Helvetica', fontsize=15, fontweight='bold')\n",
    "        if data_point > 0 :\n",
    "            yoy_diff = avgs[data_point] - avgs[data_point - 1]\n",
    "            sign = '-' if yoy_diff < 0 else '+'\n",
    "            color = '#'+palette_list[0] if yoy_diff < 0 else '#'+palette_list[-1]\n",
    "            lateral_offset = years[data_point - 1] + 0.6\n",
    "            vertical_offset = (avgs[data_point] + avgs[data_point - 1]) / 2.0\n",
    "            ax.annotate(f'{sign}{yoy_diff:.2f}', (lateral_offset, vertical_offset), color=color, fontname='Helvetica', fontsize=12, fontweight='bold')\n",
    "        ax.axvline(years[data_point], ymin=0.0, ymax=(avgs[data_point]-min(avgs))/(max(avgs)-min(avgs)) - 0.025, color='white', linestyle='--')\n",
    "\n",
    "    ax.plot(years, avgs, 'o-', color='white', linewidth=3.5, markersize=10)\n",
    "    ax.set_yticks([])\n",
    "    ax.set_xticks(years, labels=years, fontname='Helvetica', fontweight='bold', fontsize=17, color='white')\n",
    "    fig.set_facecolor('black')\n",
    "    ax.set_facecolor('black')\n",
    "\n",
    "    ax.set_frame_on(False)\n",
    "\n",
    "    plt.savefig(output_file, dpi=600, bbox_inches='tight', pad_inches=0, transparent=True)\n",
    "    plt.close()"
   ]
  },
  {
   "cell_type": "code",
   "execution_count": 44,
   "metadata": {},
   "outputs": [],
   "source": [
    "# Execution (2024)\n",
    "plot_avg_ratings_per_year(data_all.copy(), 'scores', palette_list, 'avg_ratings_per_year.png')"
   ]
  },
  {
   "cell_type": "markdown",
   "metadata": {},
   "source": [
    "# Rating Frequency"
   ]
  },
  {
   "cell_type": "code",
   "execution_count": 12,
   "metadata": {},
   "outputs": [],
   "source": [
    "# Rating frequency pie chart (with YoY increments if existing) viz function"
   ]
  },
  {
   "cell_type": "code",
   "execution_count": 13,
   "metadata": {},
   "outputs": [],
   "source": [
    "# Execution (2024)"
   ]
  },
  {
   "cell_type": "markdown",
   "metadata": {},
   "source": [
    "# Avg Rating per Weekday"
   ]
  },
  {
   "cell_type": "code",
   "execution_count": 14,
   "metadata": {},
   "outputs": [],
   "source": [
    "# (Normalized) Avg rating/productivity level per weekday/tag viz function, with YoY increments if existing"
   ]
  },
  {
   "cell_type": "code",
   "execution_count": 15,
   "metadata": {},
   "outputs": [],
   "source": [
    "# Execution (2024, rating)"
   ]
  },
  {
   "cell_type": "markdown",
   "metadata": {
    "vscode": {
     "languageId": "plaintext"
    }
   },
   "source": [
    "# Emotion Frequency"
   ]
  },
  {
   "cell_type": "code",
   "execution_count": 16,
   "metadata": {},
   "outputs": [],
   "source": [
    "# Tag frequency viz function (descending sort by frequency)"
   ]
  },
  {
   "cell_type": "code",
   "execution_count": 17,
   "metadata": {},
   "outputs": [],
   "source": [
    "# Execution (2024, emotions)"
   ]
  },
  {
   "cell_type": "markdown",
   "metadata": {},
   "source": [
    "# Activity Frequency"
   ]
  },
  {
   "cell_type": "code",
   "execution_count": 18,
   "metadata": {},
   "outputs": [],
   "source": [
    "# Execution (2024, activities)"
   ]
  },
  {
   "cell_type": "markdown",
   "metadata": {
    "vscode": {
     "languageId": "plaintext"
    }
   },
   "source": [
    "# Activity-Emotion Correlation"
   ]
  },
  {
   "cell_type": "code",
   "execution_count": 19,
   "metadata": {},
   "outputs": [],
   "source": [
    "# Pairwise tag-tag correlation (Pearson) heatmap function"
   ]
  },
  {
   "cell_type": "code",
   "execution_count": 20,
   "metadata": {},
   "outputs": [],
   "source": [
    "# Execution (2024, activity v. emotion)"
   ]
  },
  {
   "cell_type": "markdown",
   "metadata": {},
   "source": [
    "# Location-Emotion Correlation"
   ]
  },
  {
   "cell_type": "code",
   "execution_count": 21,
   "metadata": {},
   "outputs": [],
   "source": [
    "# Execution (2024, location v. emotion)"
   ]
  },
  {
   "cell_type": "markdown",
   "metadata": {},
   "source": [
    "# Sick Days 🤒"
   ]
  },
  {
   "cell_type": "code",
   "execution_count": 22,
   "metadata": {},
   "outputs": [],
   "source": [
    "# Number of symptoms + number of pharmaceuticals calendar viz function, ratings in semi-transparency, skull 💀 emoji if bad day + sick day"
   ]
  },
  {
   "cell_type": "code",
   "execution_count": 23,
   "metadata": {},
   "outputs": [],
   "source": [
    "# Total number of sick (💀) days per year line chart"
   ]
  },
  {
   "cell_type": "code",
   "execution_count": 24,
   "metadata": {},
   "outputs": [],
   "source": [
    "# Execution (2024)"
   ]
  },
  {
   "cell_type": "markdown",
   "metadata": {},
   "source": [
    "# Productivity"
   ]
  },
  {
   "cell_type": "code",
   "execution_count": 25,
   "metadata": {},
   "outputs": [],
   "source": [
    "# Productivity calendar viz function, ratings in semi-transparency"
   ]
  },
  {
   "cell_type": "code",
   "execution_count": 26,
   "metadata": {},
   "outputs": [],
   "source": [
    "# Average productivity per year line chart"
   ]
  },
  {
   "cell_type": "code",
   "execution_count": 27,
   "metadata": {},
   "outputs": [],
   "source": [
    "# Avg productivity per weekday execution (2024)"
   ]
  },
  {
   "cell_type": "code",
   "execution_count": 28,
   "metadata": {},
   "outputs": [],
   "source": [
    "# Execution (2024)"
   ]
  },
  {
   "cell_type": "markdown",
   "metadata": {},
   "source": [
    "# Weighted Avg Rating per Tag"
   ]
  },
  {
   "cell_type": "code",
   "execution_count": 29,
   "metadata": {},
   "outputs": [],
   "source": [
    "# (Normalized) Avg rating per productivity level execution (2024)"
   ]
  },
  {
   "cell_type": "code",
   "execution_count": 30,
   "metadata": {},
   "outputs": [],
   "source": [
    "# (Normalized) Avg rating per location execution (2024)"
   ]
  },
  {
   "cell_type": "code",
   "execution_count": 31,
   "metadata": {},
   "outputs": [],
   "source": [
    "# (Normalized) Avg rating per emotion execution (2024)"
   ]
  },
  {
   "cell_type": "code",
   "execution_count": 32,
   "metadata": {},
   "outputs": [],
   "source": [
    "# (Normalized) Avg rating per activity execution (2024)"
   ]
  },
  {
   "cell_type": "code",
   "execution_count": 33,
   "metadata": {},
   "outputs": [],
   "source": [
    "# (Normalized) Avg rating per medication execution (2024)"
   ]
  },
  {
   "cell_type": "code",
   "execution_count": 34,
   "metadata": {},
   "outputs": [],
   "source": [
    "# (Normalized) Avg rating per symptom execution (2024)"
   ]
  },
  {
   "cell_type": "markdown",
   "metadata": {},
   "source": [
    "# Locations Visited 🛫"
   ]
  },
  {
   "cell_type": "code",
   "execution_count": 35,
   "metadata": {},
   "outputs": [],
   "source": [
    "# 3D Map with visit frequency and average rating per location viz function"
   ]
  },
  {
   "cell_type": "code",
   "execution_count": 36,
   "metadata": {},
   "outputs": [],
   "source": [
    "# Execution (2024)"
   ]
  },
  {
   "cell_type": "markdown",
   "metadata": {},
   "source": [
    "# Word Clouds ☁️"
   ]
  },
  {
   "cell_type": "code",
   "execution_count": 37,
   "metadata": {},
   "outputs": [],
   "source": [
    "# Word cloud per daily notes (filtered by rating) viz function"
   ]
  },
  {
   "cell_type": "code",
   "execution_count": 38,
   "metadata": {},
   "outputs": [],
   "source": [
    "# Execution (2024, all days)"
   ]
  },
  {
   "cell_type": "code",
   "execution_count": 39,
   "metadata": {},
   "outputs": [],
   "source": [
    "# Execution (2024, bad days: rating 1,2)"
   ]
  },
  {
   "cell_type": "code",
   "execution_count": 40,
   "metadata": {},
   "outputs": [],
   "source": [
    "# Execution (2024, good days: rating 4,5)"
   ]
  }
 ],
 "metadata": {
  "kernelspec": {
   "display_name": "pixels",
   "language": "python",
   "name": "python3"
  },
  "language_info": {
   "codemirror_mode": {
    "name": "ipython",
    "version": 3
   },
   "file_extension": ".py",
   "mimetype": "text/x-python",
   "name": "python",
   "nbconvert_exporter": "python",
   "pygments_lexer": "ipython3",
   "version": "3.9.20"
  }
 },
 "nbformat": 4,
 "nbformat_minor": 2
}
