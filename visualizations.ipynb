{
 "cells": [
  {
   "cell_type": "markdown",
   "metadata": {},
   "source": [
    "# Year in Pixels Visualizations"
   ]
  },
  {
   "cell_type": "code",
   "execution_count": 23,
   "metadata": {},
   "outputs": [],
   "source": [
    "# imports\n",
    "import numpy as np\n",
    "import pandas as pd\n",
    "import matplotlib.pyplot as plt\n",
    "import seaborn as sns\n",
    "import json\n",
    "import datetime"
   ]
  },
  {
   "cell_type": "code",
   "execution_count": 19,
   "metadata": {},
   "outputs": [],
   "source": [
    "# load externally defined environment variables\n",
    "from dotenv import dotenv_values\n",
    "env_vars = dotenv_values()"
   ]
  },
  {
   "cell_type": "code",
   "execution_count": 17,
   "metadata": {},
   "outputs": [
    {
     "data": {
      "text/plain": [
       "['ff2700', '88220d', '151518', '213788', '00bfff']"
      ]
     },
     "execution_count": 17,
     "metadata": {},
     "output_type": "execute_result"
    }
   ],
   "source": [
    "# load color palette from environment variables\n",
    "palette_list = [env_vars[\"COLOR_PALETTE_{}\".format(i)] for i in range(1,6)]\n",
    "palette_list"
   ]
  },
  {
   "cell_type": "code",
   "execution_count": 22,
   "metadata": {},
   "outputs": [
    {
     "data": {
      "text/html": [
       "<div>\n",
       "<style scoped>\n",
       "    .dataframe tbody tr th:only-of-type {\n",
       "        vertical-align: middle;\n",
       "    }\n",
       "\n",
       "    .dataframe tbody tr th {\n",
       "        vertical-align: top;\n",
       "    }\n",
       "\n",
       "    .dataframe thead th {\n",
       "        text-align: right;\n",
       "    }\n",
       "</style>\n",
       "<table border=\"1\" class=\"dataframe\">\n",
       "  <thead>\n",
       "    <tr style=\"text-align: right;\">\n",
       "      <th></th>\n",
       "      <th>date</th>\n",
       "      <th>type</th>\n",
       "      <th>scores</th>\n",
       "      <th>notes</th>\n",
       "      <th>tags</th>\n",
       "    </tr>\n",
       "  </thead>\n",
       "  <tbody>\n",
       "    <tr>\n",
       "      <th>0</th>\n",
       "      <td>2022-4-1</td>\n",
       "      <td>Mood</td>\n",
       "      <td>[3]</td>\n",
       "      <td></td>\n",
       "      <td>[{'type': 'Emotions', 'entries': ['excitement'...</td>\n",
       "    </tr>\n",
       "    <tr>\n",
       "      <th>1</th>\n",
       "      <td>2022-4-2</td>\n",
       "      <td>Mood</td>\n",
       "      <td>[4]</td>\n",
       "      <td></td>\n",
       "      <td>[{'type': 'Emotions', 'entries': ['bore', 'chi...</td>\n",
       "    </tr>\n",
       "    <tr>\n",
       "      <th>2</th>\n",
       "      <td>2022-4-3</td>\n",
       "      <td>Mood</td>\n",
       "      <td>[1]</td>\n",
       "      <td></td>\n",
       "      <td>[{'type': 'Emotions', 'entries': ['anger', 'an...</td>\n",
       "    </tr>\n",
       "    <tr>\n",
       "      <th>3</th>\n",
       "      <td>2022-4-4</td>\n",
       "      <td>Mood</td>\n",
       "      <td>[3]</td>\n",
       "      <td></td>\n",
       "      <td>[{'type': 'Emotions', 'entries': ['anxiety', '...</td>\n",
       "    </tr>\n",
       "    <tr>\n",
       "      <th>4</th>\n",
       "      <td>2022-4-5</td>\n",
       "      <td>Mood</td>\n",
       "      <td>[2]</td>\n",
       "      <td></td>\n",
       "      <td>[{'type': 'Emotions', 'entries': ['bore', 'chi...</td>\n",
       "    </tr>\n",
       "    <tr>\n",
       "      <th>...</th>\n",
       "      <td>...</td>\n",
       "      <td>...</td>\n",
       "      <td>...</td>\n",
       "      <td>...</td>\n",
       "      <td>...</td>\n",
       "    </tr>\n",
       "    <tr>\n",
       "      <th>954</th>\n",
       "      <td>2024-11-10</td>\n",
       "      <td>Mood</td>\n",
       "      <td>[3]</td>\n",
       "      <td>Worked quite a bit for a Sunday. Happy for a p...</td>\n",
       "      <td>[{'type': 'Productivity Rating', 'entries': ['...</td>\n",
       "    </tr>\n",
       "    <tr>\n",
       "      <th>955</th>\n",
       "      <td>2024-11-11</td>\n",
       "      <td>Mood</td>\n",
       "      <td>[3]</td>\n",
       "      <td>Maurizio fell ill. Will have even more stuff t...</td>\n",
       "      <td>[{'type': 'Productivity Rating', 'entries': ['...</td>\n",
       "    </tr>\n",
       "    <tr>\n",
       "      <th>956</th>\n",
       "      <td>2024-11-12</td>\n",
       "      <td>Mood</td>\n",
       "      <td>[3]</td>\n",
       "      <td>Shaved my head and shaped my beard in the morn...</td>\n",
       "      <td>[{'type': 'Productivity Rating', 'entries': ['...</td>\n",
       "    </tr>\n",
       "    <tr>\n",
       "      <th>957</th>\n",
       "      <td>2024-11-13</td>\n",
       "      <td>Mood</td>\n",
       "      <td>[4]</td>\n",
       "      <td>Back to Milan. Today's lecture was called off,...</td>\n",
       "      <td>[{'type': 'Productivity Rating', 'entries': ['...</td>\n",
       "    </tr>\n",
       "    <tr>\n",
       "      <th>958</th>\n",
       "      <td>2024-11-14</td>\n",
       "      <td>Mood</td>\n",
       "      <td>[5]</td>\n",
       "      <td>Spent a chill morning, ate a great lunch, gave...</td>\n",
       "      <td>[{'type': 'Productivity Rating', 'entries': ['...</td>\n",
       "    </tr>\n",
       "  </tbody>\n",
       "</table>\n",
       "<p>959 rows × 5 columns</p>\n",
       "</div>"
      ],
      "text/plain": [
       "           date  type scores  \\\n",
       "0      2022-4-1  Mood    [3]   \n",
       "1      2022-4-2  Mood    [4]   \n",
       "2      2022-4-3  Mood    [1]   \n",
       "3      2022-4-4  Mood    [3]   \n",
       "4      2022-4-5  Mood    [2]   \n",
       "..          ...   ...    ...   \n",
       "954  2024-11-10  Mood    [3]   \n",
       "955  2024-11-11  Mood    [3]   \n",
       "956  2024-11-12  Mood    [3]   \n",
       "957  2024-11-13  Mood    [4]   \n",
       "958  2024-11-14  Mood    [5]   \n",
       "\n",
       "                                                 notes  \\\n",
       "0                                                        \n",
       "1                                                        \n",
       "2                                                        \n",
       "3                                                        \n",
       "4                                                        \n",
       "..                                                 ...   \n",
       "954  Worked quite a bit for a Sunday. Happy for a p...   \n",
       "955  Maurizio fell ill. Will have even more stuff t...   \n",
       "956  Shaved my head and shaped my beard in the morn...   \n",
       "957  Back to Milan. Today's lecture was called off,...   \n",
       "958  Spent a chill morning, ate a great lunch, gave...   \n",
       "\n",
       "                                                  tags  \n",
       "0    [{'type': 'Emotions', 'entries': ['excitement'...  \n",
       "1    [{'type': 'Emotions', 'entries': ['bore', 'chi...  \n",
       "2    [{'type': 'Emotions', 'entries': ['anger', 'an...  \n",
       "3    [{'type': 'Emotions', 'entries': ['anxiety', '...  \n",
       "4    [{'type': 'Emotions', 'entries': ['bore', 'chi...  \n",
       "..                                                 ...  \n",
       "954  [{'type': 'Productivity Rating', 'entries': ['...  \n",
       "955  [{'type': 'Productivity Rating', 'entries': ['...  \n",
       "956  [{'type': 'Productivity Rating', 'entries': ['...  \n",
       "957  [{'type': 'Productivity Rating', 'entries': ['...  \n",
       "958  [{'type': 'Productivity Rating', 'entries': ['...  \n",
       "\n",
       "[959 rows x 5 columns]"
      ]
     },
     "execution_count": 22,
     "metadata": {},
     "output_type": "execute_result"
    }
   ],
   "source": [
    "# data extraction into Pandas DataFrame\n",
    "year = env_vars['YEAR']\n",
    "\n",
    "with open('./data/data_{}.json'.format(year)) as fp:\n",
    "    data = json.load(fp)\n",
    "data = pd.DataFrame(data)\n",
    "data"
   ]
  },
  {
   "cell_type": "markdown",
   "metadata": {},
   "source": [
    "# Pixels (Github-like viz)"
   ]
  },
  {
   "cell_type": "code",
   "execution_count": null,
   "metadata": {},
   "outputs": [],
   "source": [
    "# Import palette from .env (csv)"
   ]
  },
  {
   "cell_type": "code",
   "execution_count": null,
   "metadata": {},
   "outputs": [],
   "source": [
    "# Pixels viz function (each row is one week, squares are a little spaced out and rounded, month labels are visible)"
   ]
  },
  {
   "cell_type": "code",
   "execution_count": null,
   "metadata": {},
   "outputs": [],
   "source": [
    "# Execution (2024)"
   ]
  },
  {
   "cell_type": "markdown",
   "metadata": {},
   "source": [
    "# Average Rating YoY"
   ]
  },
  {
   "cell_type": "code",
   "execution_count": null,
   "metadata": {},
   "outputs": [],
   "source": [
    "# Avg rating viz function, YoY increments if existing"
   ]
  },
  {
   "cell_type": "code",
   "execution_count": null,
   "metadata": {},
   "outputs": [],
   "source": [
    "# Line chart of avg rating per year"
   ]
  },
  {
   "cell_type": "code",
   "execution_count": null,
   "metadata": {},
   "outputs": [],
   "source": [
    "# Execution (2024)"
   ]
  },
  {
   "cell_type": "markdown",
   "metadata": {},
   "source": [
    "# Rating Frequency"
   ]
  },
  {
   "cell_type": "code",
   "execution_count": null,
   "metadata": {},
   "outputs": [],
   "source": [
    "# Rating frequency pie chart (with YoY increments if existing) viz function"
   ]
  },
  {
   "cell_type": "code",
   "execution_count": null,
   "metadata": {},
   "outputs": [],
   "source": [
    "# Execution (2024)"
   ]
  },
  {
   "cell_type": "markdown",
   "metadata": {},
   "source": [
    "# Avg Rating per Weekday"
   ]
  },
  {
   "cell_type": "code",
   "execution_count": null,
   "metadata": {},
   "outputs": [],
   "source": [
    "# (Normalized) Avg rating/productivity level per weekday/tag viz function, with YoY increments if existing"
   ]
  },
  {
   "cell_type": "code",
   "execution_count": null,
   "metadata": {},
   "outputs": [],
   "source": [
    "# Execution (2024, rating)"
   ]
  },
  {
   "cell_type": "markdown",
   "metadata": {
    "vscode": {
     "languageId": "plaintext"
    }
   },
   "source": [
    "# Emotion Frequency"
   ]
  },
  {
   "cell_type": "code",
   "execution_count": null,
   "metadata": {},
   "outputs": [],
   "source": [
    "# Tag frequency viz function (descending sort by frequency)"
   ]
  },
  {
   "cell_type": "code",
   "execution_count": null,
   "metadata": {},
   "outputs": [],
   "source": [
    "# Execution (2024, emotions)"
   ]
  },
  {
   "cell_type": "markdown",
   "metadata": {},
   "source": [
    "# Activity Frequency"
   ]
  },
  {
   "cell_type": "code",
   "execution_count": null,
   "metadata": {},
   "outputs": [],
   "source": [
    "# Execution (2024, activities)"
   ]
  },
  {
   "cell_type": "markdown",
   "metadata": {
    "vscode": {
     "languageId": "plaintext"
    }
   },
   "source": [
    "# Activity-Emotion Correlation"
   ]
  },
  {
   "cell_type": "code",
   "execution_count": null,
   "metadata": {},
   "outputs": [],
   "source": [
    "# Pairwise tag-tag correlation (Pearson) heatmap function"
   ]
  },
  {
   "cell_type": "code",
   "execution_count": null,
   "metadata": {},
   "outputs": [],
   "source": [
    "# Execution (2024, activity v. emotion)"
   ]
  },
  {
   "cell_type": "markdown",
   "metadata": {},
   "source": [
    "# Location-Emotion Correlation"
   ]
  },
  {
   "cell_type": "code",
   "execution_count": null,
   "metadata": {},
   "outputs": [],
   "source": [
    "# Execution (2024, location v. emotion)"
   ]
  },
  {
   "cell_type": "markdown",
   "metadata": {},
   "source": [
    "# Sick Days 🤒"
   ]
  },
  {
   "cell_type": "code",
   "execution_count": null,
   "metadata": {},
   "outputs": [],
   "source": [
    "# Number of symptoms + number of pharmaceuticals calendar viz function, ratings in semi-transparency, skull 💀 emoji if bad day + sick day"
   ]
  },
  {
   "cell_type": "code",
   "execution_count": null,
   "metadata": {},
   "outputs": [],
   "source": [
    "# Total number of sick (💀) days per year line chart"
   ]
  },
  {
   "cell_type": "code",
   "execution_count": null,
   "metadata": {},
   "outputs": [],
   "source": [
    "# Execution (2024)"
   ]
  },
  {
   "cell_type": "markdown",
   "metadata": {},
   "source": [
    "# Productivity"
   ]
  },
  {
   "cell_type": "code",
   "execution_count": null,
   "metadata": {},
   "outputs": [],
   "source": [
    "# Productivity calendar viz function, ratings in semi-transparency"
   ]
  },
  {
   "cell_type": "code",
   "execution_count": null,
   "metadata": {},
   "outputs": [],
   "source": [
    "# Average productivity per year line chart"
   ]
  },
  {
   "cell_type": "code",
   "execution_count": null,
   "metadata": {},
   "outputs": [],
   "source": [
    "# Avg productivity per weekday execution (2024)"
   ]
  },
  {
   "cell_type": "code",
   "execution_count": null,
   "metadata": {},
   "outputs": [],
   "source": [
    "# Execution (2024)"
   ]
  },
  {
   "cell_type": "markdown",
   "metadata": {},
   "source": [
    "# Weighted Avg Rating per Tag"
   ]
  },
  {
   "cell_type": "code",
   "execution_count": null,
   "metadata": {},
   "outputs": [],
   "source": [
    "# (Normalized) Avg rating per productivity level execution (2024)"
   ]
  },
  {
   "cell_type": "code",
   "execution_count": null,
   "metadata": {},
   "outputs": [],
   "source": [
    "# (Normalized) Avg rating per location execution (2024)"
   ]
  },
  {
   "cell_type": "code",
   "execution_count": null,
   "metadata": {},
   "outputs": [],
   "source": [
    "# (Normalized) Avg rating per emotion execution (2024)"
   ]
  },
  {
   "cell_type": "code",
   "execution_count": null,
   "metadata": {},
   "outputs": [],
   "source": [
    "# (Normalized) Avg rating per activity execution (2024)"
   ]
  },
  {
   "cell_type": "code",
   "execution_count": null,
   "metadata": {},
   "outputs": [],
   "source": [
    "# (Normalized) Avg rating per medication execution (2024)"
   ]
  },
  {
   "cell_type": "code",
   "execution_count": null,
   "metadata": {},
   "outputs": [],
   "source": [
    "# (Normalized) Avg rating per symptom execution (2024)"
   ]
  },
  {
   "cell_type": "markdown",
   "metadata": {},
   "source": [
    "# Locations Visited 🛫"
   ]
  },
  {
   "cell_type": "code",
   "execution_count": null,
   "metadata": {},
   "outputs": [],
   "source": [
    "# 3D Map with visit frequency and average rating per location viz function"
   ]
  },
  {
   "cell_type": "code",
   "execution_count": null,
   "metadata": {},
   "outputs": [],
   "source": [
    "# Execution (2024)"
   ]
  },
  {
   "cell_type": "markdown",
   "metadata": {},
   "source": [
    "# Word Clouds ☁️"
   ]
  },
  {
   "cell_type": "code",
   "execution_count": null,
   "metadata": {},
   "outputs": [],
   "source": [
    "# Word cloud per daily notes (filtered by rating) viz function"
   ]
  },
  {
   "cell_type": "code",
   "execution_count": null,
   "metadata": {},
   "outputs": [],
   "source": [
    "# Execution (2024, all days)"
   ]
  },
  {
   "cell_type": "code",
   "execution_count": null,
   "metadata": {},
   "outputs": [],
   "source": [
    "# Execution (2024, bad days: rating 1,2)"
   ]
  },
  {
   "cell_type": "code",
   "execution_count": null,
   "metadata": {},
   "outputs": [],
   "source": [
    "# Execution (2024, good days: rating 4,5)"
   ]
  }
 ],
 "metadata": {
  "kernelspec": {
   "display_name": "pixels",
   "language": "python",
   "name": "python3"
  },
  "language_info": {
   "codemirror_mode": {
    "name": "ipython",
    "version": 3
   },
   "file_extension": ".py",
   "mimetype": "text/x-python",
   "name": "python",
   "nbconvert_exporter": "python",
   "pygments_lexer": "ipython3",
   "version": "3.9.20"
  }
 },
 "nbformat": 4,
 "nbformat_minor": 2
}
